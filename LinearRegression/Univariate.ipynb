{
  "nbformat": 4,
  "nbformat_minor": 0,
  "metadata": {
    "colab": {
      "name": "3.1_Univariate.ipynb",
      "provenance": [],
      "include_colab_link": true
    },
    "kernelspec": {
      "name": "python3",
      "display_name": "Python 3"
    }
  },
  "cells": [
    {
      "cell_type": "markdown",
      "metadata": {
        "id": "view-in-github",
        "colab_type": "text"
      },
      "source": [
        "<a href=\"https://colab.research.google.com/github/Salonee-Jain/MLnow_2.0/blob/main/LinearRegression/Univariate.ipynb\" target=\"_parent\"><img src=\"https://colab.research.google.com/assets/colab-badge.svg\" alt=\"Open In Colab\"/></a>"
      ]
    },
    {
      "cell_type": "markdown",
      "metadata": {
        "id": "q_569ugy6lyY"
      },
      "source": [
        "> This notebook was created for code illustration of the `ML.now()` course\n",
        "\n",
        "\n",
        "`Univariate Linear Regression`\n",
        "\n",
        "[Link to Download the dataset](https://archive.ics.uci.edu/ml/datasets/Student+Performance)\n",
        "\n",
        "**Date Created**: June 6, 2021\n",
        "\n",
        "\n",
        "**Author**:\n",
        " Saloni Jain \n",
        "\n",
        "**Reach out**:\n",
        "[Email](https://www.google.com/intl/en-GB/gmail/about/#) | [GitHub](https://github.com/Salonee-Jain) | [LinkedIn](https://www.linkedin.com/in/saloni--jain/)\n",
        "\n",
        "[[Course Repository](https://github.com/Salonee-Jain/MLnow_2.0)]\n",
        "\n",
        "Feel free to check out my [blogs](https://saloni-jain.medium.com/) "
      ]
    },
    {
      "cell_type": "markdown",
      "metadata": {
        "id": "KmW9S6zjaauQ"
      },
      "source": [
        "## Setup"
      ]
    },
    {
      "cell_type": "code",
      "metadata": {
        "colab": {
          "base_uri": "https://localhost:8080/"
        },
        "id": "oX_QibhWsnnX",
        "outputId": "233956d9-c416-4309-df52-4562c1612452"
      },
      "source": [
        "from google.colab import drive\n",
        "drive.mount('/content/drive')"
      ],
      "execution_count": 13,
      "outputs": [
        {
          "output_type": "stream",
          "text": [
            "Drive already mounted at /content/drive; to attempt to forcibly remount, call drive.mount(\"/content/drive\", force_remount=True).\n"
          ],
          "name": "stdout"
        }
      ]
    },
    {
      "cell_type": "code",
      "metadata": {
        "id": "GJVowwjW91r5",
        "outputId": "503b08a2-42a2-4581-9b5b-a667c2778d5f",
        "colab": {
          "base_uri": "https://localhost:8080/"
        }
      },
      "source": [
        "cd '/content/drive/MyDrive/ML AI/Placement'"
      ],
      "execution_count": 14,
      "outputs": [
        {
          "output_type": "stream",
          "text": [
            "/content/drive/MyDrive/ML AI/Placement\n"
          ],
          "name": "stdout"
        }
      ]
    },
    {
      "cell_type": "code",
      "metadata": {
        "colab": {
          "base_uri": "https://localhost:8080/"
        },
        "id": "oR69jwALs-uP",
        "outputId": "878bc4ec-92d3-4a87-e43e-8d97672929e5"
      },
      "source": [
        "ls"
      ],
      "execution_count": 15,
      "outputs": [
        {
          "output_type": "stream",
          "text": [
            "Placement_Data_Full_Class.csv\n"
          ],
          "name": "stdout"
        }
      ]
    },
    {
      "cell_type": "code",
      "metadata": {
        "id": "0rYwvbeMtPJg"
      },
      "source": [
        "import os"
      ],
      "execution_count": 16,
      "outputs": []
    },
    {
      "cell_type": "code",
      "metadata": {
        "id": "cnGQRbmes_tZ"
      },
      "source": [
        "import pandas as pd #working with csv or excel files\n",
        "import numpy as np #working with numbers/ arrays/ tensors\n",
        "import tensorflow as tf #framework\n",
        "from tensorflow import keras #API / library \n",
        "import os #using os commands between the python language"
      ],
      "execution_count": 19,
      "outputs": []
    },
    {
      "cell_type": "code",
      "metadata": {
        "id": "VV-Ps6dJtX6B"
      },
      "source": [
        "Data = pd.read_csv('Placement_Data_Full_Class.csv') #load the csv file as dataframe"
      ],
      "execution_count": 24,
      "outputs": []
    },
    {
      "cell_type": "code",
      "metadata": {
        "colab": {
          "base_uri": "https://localhost:8080/",
          "height": 447
        },
        "id": "2_KId_bptr05",
        "outputId": "8956385b-8dbc-43b7-e7e3-dbf92a33ce03"
      },
      "source": [
        "Data.head(10) #print the first ten rows of the dataframe"
      ],
      "execution_count": 25,
      "outputs": [
        {
          "output_type": "execute_result",
          "data": {
            "text/html": [
              "<div>\n",
              "<style scoped>\n",
              "    .dataframe tbody tr th:only-of-type {\n",
              "        vertical-align: middle;\n",
              "    }\n",
              "\n",
              "    .dataframe tbody tr th {\n",
              "        vertical-align: top;\n",
              "    }\n",
              "\n",
              "    .dataframe thead th {\n",
              "        text-align: right;\n",
              "    }\n",
              "</style>\n",
              "<table border=\"1\" class=\"dataframe\">\n",
              "  <thead>\n",
              "    <tr style=\"text-align: right;\">\n",
              "      <th></th>\n",
              "      <th>sl_no</th>\n",
              "      <th>gender</th>\n",
              "      <th>ssc_p</th>\n",
              "      <th>ssc_b</th>\n",
              "      <th>hsc_p</th>\n",
              "      <th>hsc_b</th>\n",
              "      <th>hsc_s</th>\n",
              "      <th>degree_p</th>\n",
              "      <th>degree_t</th>\n",
              "      <th>workex</th>\n",
              "      <th>etest_p</th>\n",
              "      <th>specialisation</th>\n",
              "      <th>mba_p</th>\n",
              "      <th>status</th>\n",
              "      <th>salary</th>\n",
              "    </tr>\n",
              "  </thead>\n",
              "  <tbody>\n",
              "    <tr>\n",
              "      <th>0</th>\n",
              "      <td>1</td>\n",
              "      <td>M</td>\n",
              "      <td>67.00</td>\n",
              "      <td>Others</td>\n",
              "      <td>91.00</td>\n",
              "      <td>Others</td>\n",
              "      <td>Commerce</td>\n",
              "      <td>58.00</td>\n",
              "      <td>Sci&amp;Tech</td>\n",
              "      <td>No</td>\n",
              "      <td>55.00</td>\n",
              "      <td>Mkt&amp;HR</td>\n",
              "      <td>58.80</td>\n",
              "      <td>Placed</td>\n",
              "      <td>270000.0</td>\n",
              "    </tr>\n",
              "    <tr>\n",
              "      <th>1</th>\n",
              "      <td>2</td>\n",
              "      <td>M</td>\n",
              "      <td>79.33</td>\n",
              "      <td>Central</td>\n",
              "      <td>78.33</td>\n",
              "      <td>Others</td>\n",
              "      <td>Science</td>\n",
              "      <td>77.48</td>\n",
              "      <td>Sci&amp;Tech</td>\n",
              "      <td>Yes</td>\n",
              "      <td>86.50</td>\n",
              "      <td>Mkt&amp;Fin</td>\n",
              "      <td>66.28</td>\n",
              "      <td>Placed</td>\n",
              "      <td>200000.0</td>\n",
              "    </tr>\n",
              "    <tr>\n",
              "      <th>2</th>\n",
              "      <td>3</td>\n",
              "      <td>M</td>\n",
              "      <td>65.00</td>\n",
              "      <td>Central</td>\n",
              "      <td>68.00</td>\n",
              "      <td>Central</td>\n",
              "      <td>Arts</td>\n",
              "      <td>64.00</td>\n",
              "      <td>Comm&amp;Mgmt</td>\n",
              "      <td>No</td>\n",
              "      <td>75.00</td>\n",
              "      <td>Mkt&amp;Fin</td>\n",
              "      <td>57.80</td>\n",
              "      <td>Placed</td>\n",
              "      <td>250000.0</td>\n",
              "    </tr>\n",
              "    <tr>\n",
              "      <th>3</th>\n",
              "      <td>4</td>\n",
              "      <td>M</td>\n",
              "      <td>56.00</td>\n",
              "      <td>Central</td>\n",
              "      <td>52.00</td>\n",
              "      <td>Central</td>\n",
              "      <td>Science</td>\n",
              "      <td>52.00</td>\n",
              "      <td>Sci&amp;Tech</td>\n",
              "      <td>No</td>\n",
              "      <td>66.00</td>\n",
              "      <td>Mkt&amp;HR</td>\n",
              "      <td>59.43</td>\n",
              "      <td>Not Placed</td>\n",
              "      <td>NaN</td>\n",
              "    </tr>\n",
              "    <tr>\n",
              "      <th>4</th>\n",
              "      <td>5</td>\n",
              "      <td>M</td>\n",
              "      <td>85.80</td>\n",
              "      <td>Central</td>\n",
              "      <td>73.60</td>\n",
              "      <td>Central</td>\n",
              "      <td>Commerce</td>\n",
              "      <td>73.30</td>\n",
              "      <td>Comm&amp;Mgmt</td>\n",
              "      <td>No</td>\n",
              "      <td>96.80</td>\n",
              "      <td>Mkt&amp;Fin</td>\n",
              "      <td>55.50</td>\n",
              "      <td>Placed</td>\n",
              "      <td>425000.0</td>\n",
              "    </tr>\n",
              "    <tr>\n",
              "      <th>5</th>\n",
              "      <td>6</td>\n",
              "      <td>M</td>\n",
              "      <td>55.00</td>\n",
              "      <td>Others</td>\n",
              "      <td>49.80</td>\n",
              "      <td>Others</td>\n",
              "      <td>Science</td>\n",
              "      <td>67.25</td>\n",
              "      <td>Sci&amp;Tech</td>\n",
              "      <td>Yes</td>\n",
              "      <td>55.00</td>\n",
              "      <td>Mkt&amp;Fin</td>\n",
              "      <td>51.58</td>\n",
              "      <td>Not Placed</td>\n",
              "      <td>NaN</td>\n",
              "    </tr>\n",
              "    <tr>\n",
              "      <th>6</th>\n",
              "      <td>7</td>\n",
              "      <td>F</td>\n",
              "      <td>46.00</td>\n",
              "      <td>Others</td>\n",
              "      <td>49.20</td>\n",
              "      <td>Others</td>\n",
              "      <td>Commerce</td>\n",
              "      <td>79.00</td>\n",
              "      <td>Comm&amp;Mgmt</td>\n",
              "      <td>No</td>\n",
              "      <td>74.28</td>\n",
              "      <td>Mkt&amp;Fin</td>\n",
              "      <td>53.29</td>\n",
              "      <td>Not Placed</td>\n",
              "      <td>NaN</td>\n",
              "    </tr>\n",
              "    <tr>\n",
              "      <th>7</th>\n",
              "      <td>8</td>\n",
              "      <td>M</td>\n",
              "      <td>82.00</td>\n",
              "      <td>Central</td>\n",
              "      <td>64.00</td>\n",
              "      <td>Central</td>\n",
              "      <td>Science</td>\n",
              "      <td>66.00</td>\n",
              "      <td>Sci&amp;Tech</td>\n",
              "      <td>Yes</td>\n",
              "      <td>67.00</td>\n",
              "      <td>Mkt&amp;Fin</td>\n",
              "      <td>62.14</td>\n",
              "      <td>Placed</td>\n",
              "      <td>252000.0</td>\n",
              "    </tr>\n",
              "    <tr>\n",
              "      <th>8</th>\n",
              "      <td>9</td>\n",
              "      <td>M</td>\n",
              "      <td>73.00</td>\n",
              "      <td>Central</td>\n",
              "      <td>79.00</td>\n",
              "      <td>Central</td>\n",
              "      <td>Commerce</td>\n",
              "      <td>72.00</td>\n",
              "      <td>Comm&amp;Mgmt</td>\n",
              "      <td>No</td>\n",
              "      <td>91.34</td>\n",
              "      <td>Mkt&amp;Fin</td>\n",
              "      <td>61.29</td>\n",
              "      <td>Placed</td>\n",
              "      <td>231000.0</td>\n",
              "    </tr>\n",
              "    <tr>\n",
              "      <th>9</th>\n",
              "      <td>10</td>\n",
              "      <td>M</td>\n",
              "      <td>58.00</td>\n",
              "      <td>Central</td>\n",
              "      <td>70.00</td>\n",
              "      <td>Central</td>\n",
              "      <td>Commerce</td>\n",
              "      <td>61.00</td>\n",
              "      <td>Comm&amp;Mgmt</td>\n",
              "      <td>No</td>\n",
              "      <td>54.00</td>\n",
              "      <td>Mkt&amp;Fin</td>\n",
              "      <td>52.21</td>\n",
              "      <td>Not Placed</td>\n",
              "      <td>NaN</td>\n",
              "    </tr>\n",
              "  </tbody>\n",
              "</table>\n",
              "</div>"
            ],
            "text/plain": [
              "   sl_no gender  ssc_p    ssc_b  ...  specialisation  mba_p      status    salary\n",
              "0      1      M  67.00   Others  ...          Mkt&HR  58.80      Placed  270000.0\n",
              "1      2      M  79.33  Central  ...         Mkt&Fin  66.28      Placed  200000.0\n",
              "2      3      M  65.00  Central  ...         Mkt&Fin  57.80      Placed  250000.0\n",
              "3      4      M  56.00  Central  ...          Mkt&HR  59.43  Not Placed       NaN\n",
              "4      5      M  85.80  Central  ...         Mkt&Fin  55.50      Placed  425000.0\n",
              "5      6      M  55.00   Others  ...         Mkt&Fin  51.58  Not Placed       NaN\n",
              "6      7      F  46.00   Others  ...         Mkt&Fin  53.29  Not Placed       NaN\n",
              "7      8      M  82.00  Central  ...         Mkt&Fin  62.14      Placed  252000.0\n",
              "8      9      M  73.00  Central  ...         Mkt&Fin  61.29      Placed  231000.0\n",
              "9     10      M  58.00  Central  ...         Mkt&Fin  52.21  Not Placed       NaN\n",
              "\n",
              "[10 rows x 15 columns]"
            ]
          },
          "metadata": {
            "tags": []
          },
          "execution_count": 25
        }
      ]
    },
    {
      "cell_type": "markdown",
      "metadata": {
        "id": "i2bal50yG_PZ"
      },
      "source": [
        "We are just going to consider the columns `mba_p`(MBA percentage) and `status`(is the candidate selected or no) for univariate linear regression\n",
        "\n",
        "$status_i = mbap_i  \\cdot \\theta_1 + \\theta_0$"
      ]
    },
    {
      "cell_type": "code",
      "metadata": {
        "id": "3WPxbvRWJYVV",
        "outputId": "2a69ee75-c08d-4eb9-839d-04f7ea68aea2",
        "colab": {
          "base_uri": "https://localhost:8080/"
        }
      },
      "source": [
        "print(f'status: {Data.status.unique()}')\n",
        "\n"
      ],
      "execution_count": 53,
      "outputs": [
        {
          "output_type": "stream",
          "text": [
            "status: ['Placed' 'Not Placed']\n"
          ],
          "name": "stdout"
        }
      ]
    },
    {
      "cell_type": "markdown",
      "metadata": {
        "id": "13OJnIxhMcDH"
      },
      "source": [
        "**Converting the categorical data to numeric data**"
      ]
    },
    {
      "cell_type": "code",
      "metadata": {
        "id": "2myEYgTuJtn3"
      },
      "source": [
        "Data['status'] = Data['status'].apply({'Placed':1, 'Not Placed':2}.get)"
      ],
      "execution_count": 54,
      "outputs": []
    },
    {
      "cell_type": "code",
      "metadata": {
        "id": "FIY11ZAIFGfJ",
        "outputId": "cd16dc2e-53c2-4e88-da7a-4cdd7fcbbf7f",
        "colab": {
          "base_uri": "https://localhost:8080/",
          "height": 204
        }
      },
      "source": [
        "uniData = Data[['mba_p', 'status']]\n",
        "uniData.head(5)"
      ],
      "execution_count": 55,
      "outputs": [
        {
          "output_type": "execute_result",
          "data": {
            "text/html": [
              "<div>\n",
              "<style scoped>\n",
              "    .dataframe tbody tr th:only-of-type {\n",
              "        vertical-align: middle;\n",
              "    }\n",
              "\n",
              "    .dataframe tbody tr th {\n",
              "        vertical-align: top;\n",
              "    }\n",
              "\n",
              "    .dataframe thead th {\n",
              "        text-align: right;\n",
              "    }\n",
              "</style>\n",
              "<table border=\"1\" class=\"dataframe\">\n",
              "  <thead>\n",
              "    <tr style=\"text-align: right;\">\n",
              "      <th></th>\n",
              "      <th>mba_p</th>\n",
              "      <th>status</th>\n",
              "    </tr>\n",
              "  </thead>\n",
              "  <tbody>\n",
              "    <tr>\n",
              "      <th>0</th>\n",
              "      <td>58.80</td>\n",
              "      <td>1</td>\n",
              "    </tr>\n",
              "    <tr>\n",
              "      <th>1</th>\n",
              "      <td>66.28</td>\n",
              "      <td>1</td>\n",
              "    </tr>\n",
              "    <tr>\n",
              "      <th>2</th>\n",
              "      <td>57.80</td>\n",
              "      <td>1</td>\n",
              "    </tr>\n",
              "    <tr>\n",
              "      <th>3</th>\n",
              "      <td>59.43</td>\n",
              "      <td>2</td>\n",
              "    </tr>\n",
              "    <tr>\n",
              "      <th>4</th>\n",
              "      <td>55.50</td>\n",
              "      <td>1</td>\n",
              "    </tr>\n",
              "  </tbody>\n",
              "</table>\n",
              "</div>"
            ],
            "text/plain": [
              "   mba_p  status\n",
              "0  58.80       1\n",
              "1  66.28       1\n",
              "2  57.80       1\n",
              "3  59.43       2\n",
              "4  55.50       1"
            ]
          },
          "metadata": {
            "tags": []
          },
          "execution_count": 55
        }
      ]
    },
    {
      "cell_type": "code",
      "metadata": {
        "id": "eyzP9mL4Hmb5"
      },
      "source": [
        "uniData.to_csv('univariate_Data_2.csv')"
      ],
      "execution_count": 56,
      "outputs": []
    },
    {
      "cell_type": "code",
      "metadata": {
        "colab": {
          "base_uri": "https://localhost:8080/"
        },
        "id": "I-3qK_nNxnTA",
        "outputId": "45688d5d-780d-43ab-ef62-ecf51fe7614c"
      },
      "source": [
        "ls"
      ],
      "execution_count": 57,
      "outputs": [
        {
          "output_type": "stream",
          "text": [
            "Placement_Data_Full_Class.csv  univariate_Data_2.csv\n"
          ],
          "name": "stdout"
        }
      ]
    },
    {
      "cell_type": "markdown",
      "metadata": {
        "id": "ImV3p6AKxszU"
      },
      "source": [
        "## Data visualization"
      ]
    },
    {
      "cell_type": "code",
      "metadata": {
        "colab": {
          "base_uri": "https://localhost:8080/",
          "height": 153
        },
        "id": "RqumcsZLxq4v",
        "outputId": "e5737b25-b802-4ad2-9934-24230d1b564b"
      },
      "source": [
        "import seaborn as sns\n",
        "sns.palplot(sns.color_palette(\"flare\")) \n",
        "pal = sns.color_palette('flare', 6) #print 6 color shades from flare\n",
        "pal.as_hex() #set hex code values for colors\n",
        "\n",
        "import matplotlib.pyplot as plt\n",
        "plt.style.use(['seaborn'])\n",
        "sns_colors = ['#ffff22', '#F660AA'] #blue and pink hex codes \n",
        "sns.set_palette(sns_colors) #set the palette as sns_colors \n",
        "sns.palplot(sns.color_palette(sns_colors)) #plot the color codes"
      ],
      "execution_count": 89,
      "outputs": [
        {
          "output_type": "display_data",
          "data": {
            "image/png": "[encoded data removed]",
            "text/plain": [
              "<Figure size 432x72 with 1 Axes>"
            ]
          },
          "metadata": {
            "tags": []
          }
        },
        {
          "output_type": "display_data",
          "data": {
            "image/png": "[encoded data removed]",
            "text/plain": [
              "<Figure size 144x72 with 1 Axes>"
            ]
          },
          "metadata": {
            "tags": []
          }
        }
      ]
    },
    {
      "cell_type": "code",
      "metadata": {
        "colab": {
          "base_uri": "https://localhost:8080/"
        },
        "id": "A6MT5E8Fy7MZ",
        "outputId": "31a84702-3977-4834-96cd-9641a0b78dcc"
      },
      "source": [
        "uniData.columns #columns in the dataframe\n"
      ],
      "execution_count": 90,
      "outputs": [
        {
          "output_type": "execute_result",
          "data": {
            "text/plain": [
              "Index(['mba_p', 'status'], dtype='object')"
            ]
          },
          "metadata": {
            "tags": []
          },
          "execution_count": 90
        }
      ]
    },
    {
      "cell_type": "code",
      "metadata": {
        "colab": {
          "base_uri": "https://localhost:8080/",
          "height": 748
        },
        "id": "PrsTwdHHzBbk",
        "outputId": "be545cf0-9632-4fdc-d834-b681d72b71e7"
      },
      "source": [
        "sns.pairplot(uniData,\n",
        "             x_vars = ['mba_p', 'status'],\n",
        "             y_vars =  ['mba_p', 'status'],\n",
        "       diag_kind='auto'\n",
        "             )\n",
        "\n",
        "sns.pairplot(uniData,\n",
        "             x_vars = ['mba_p', 'status'],\n",
        "             y_vars =  ['mba_p', 'status'],\n",
        "       diag_kind='kde'\n",
        "             )"
      ],
      "execution_count": 96,
      "outputs": [
        {
          "output_type": "execute_result",
          "data": {
            "text/plain": [
              "<seaborn.axisgrid.PairGrid at 0x7f9a4c987490>"
            ]
          },
          "metadata": {
            "tags": []
          },
          "execution_count": 96
        },
        {
          "output_type": "display_data",
          "data": {
            "image/png": "[encoded data removed]",
            "text/plain": [
              "<Figure size 360x360 with 6 Axes>"
            ]
          },
          "metadata": {
            "tags": []
          }
        },
        {
          "output_type": "display_data",
          "data": {
            "image/png": "[encoded data removed]",
            "text/plain": [
              "<Figure size 360x360 with 6 Axes>"
            ]
          },
          "metadata": {
            "tags": []
          }
        }
      ]
    },
    {
      "cell_type": "markdown",
      "metadata": {
        "id": "Klm33YcpKZkl"
      },
      "source": [
        "## Data Splits"
      ]
    },
    {
      "cell_type": "code",
      "metadata": {
        "colab": {
          "base_uri": "https://localhost:8080/"
        },
        "id": "UwrSOCKS1NhN",
        "outputId": "fa9887ed-92c9-45c4-c1d6-a4467470d779"
      },
      "source": [
        "#80-20 train-test percent split\n",
        "\n",
        "trainDataset = uniData.sample(frac=0.89, random_state=0) \n",
        "testDataset = uniData.drop(trainDataset.index)\n",
        "\n",
        "print(trainDataset.head())\n",
        "print(testDataset.head())"
      ],
      "execution_count": 63,
      "outputs": [
        {
          "output_type": "stream",
          "text": [
            "     mba_p  status\n",
            "198  71.96       2\n",
            "37   55.47       1\n",
            "89   62.36       1\n",
            "168  58.79       2\n",
            "171  66.04       1\n",
            "    mba_p  status\n",
            "9   52.21       2\n",
            "21  69.06       1\n",
            "25  65.33       2\n",
            "36  51.45       2\n",
            "39  62.56       1\n"
          ],
          "name": "stdout"
        }
      ]
    },
    {
      "cell_type": "code",
      "metadata": {
        "colab": {
          "base_uri": "https://localhost:8080/"
        },
        "id": "YWO2xRV53wV-",
        "outputId": "5c647d01-a7de-466c-c2ec-6267967e72ff"
      },
      "source": [
        "print(trainDataset.shape)\n",
        "print(testDataset.shape)"
      ],
      "execution_count": 64,
      "outputs": [
        {
          "output_type": "stream",
          "text": [
            "(191, 2)\n",
            "(24, 2)\n"
          ],
          "name": "stdout"
        }
      ]
    },
    {
      "cell_type": "code",
      "metadata": {
        "colab": {
          "base_uri": "https://localhost:8080/"
        },
        "id": "OmDTbvMC32hg",
        "outputId": "5a40abb4-27c6-4d4d-986b-c1af0ecc57af"
      },
      "source": [
        "#copy the trainDataset dataframe for getting the features\n",
        "\n",
        "trainFeatures = trainDataset.copy()\n",
        "testFeatures = testDataset.copy()\n",
        "\n",
        "print(trainFeatures.head())\n",
        "print(testFeatures.head())"
      ],
      "execution_count": 65,
      "outputs": [
        {
          "output_type": "stream",
          "text": [
            "     mba_p  status\n",
            "198  71.96       2\n",
            "37   55.47       1\n",
            "89   62.36       1\n",
            "168  58.79       2\n",
            "171  66.04       1\n",
            "    mba_p  status\n",
            "9   52.21       2\n",
            "21  69.06       1\n",
            "25  65.33       2\n",
            "36  51.45       2\n",
            "39  62.56       1\n"
          ],
          "name": "stdout"
        }
      ]
    },
    {
      "cell_type": "code",
      "metadata": {
        "colab": {
          "base_uri": "https://localhost:8080/"
        },
        "id": "jSR0_uni4ayh",
        "outputId": "52c88274-cd3e-4653-e672-76397b0fe5f0"
      },
      "source": [
        "#removing the G3 column and saving it into the labels variable\n",
        "\n",
        "trainLabels = trainFeatures.pop('mba_p')\n",
        "testLabels = testFeatures.pop('mba_p')\n",
        "\n",
        "print(trainLabels.head())\n",
        "print(testLabels.head())"
      ],
      "execution_count": 66,
      "outputs": [
        {
          "output_type": "stream",
          "text": [
            "198    71.96\n",
            "37     55.47\n",
            "89     62.36\n",
            "168    58.79\n",
            "171    66.04\n",
            "Name: mba_p, dtype: float64\n",
            "9     52.21\n",
            "21    69.06\n",
            "25    65.33\n",
            "36    51.45\n",
            "39    62.56\n",
            "Name: mba_p, dtype: float64\n"
          ],
          "name": "stdout"
        }
      ]
    },
    {
      "cell_type": "code",
      "metadata": {
        "colab": {
          "base_uri": "https://localhost:8080/"
        },
        "id": "HnGSqb-q4wk8",
        "outputId": "3de09f38-2a3a-4306-8bd3-4421538d511b"
      },
      "source": [
        "print(trainFeatures.head())\n",
        "print(testFeatures.head())"
      ],
      "execution_count": 67,
      "outputs": [
        {
          "output_type": "stream",
          "text": [
            "     status\n",
            "198       2\n",
            "37        1\n",
            "89        1\n",
            "168       2\n",
            "171       1\n",
            "    status\n",
            "9        2\n",
            "21       1\n",
            "25       2\n",
            "36       2\n",
            "39       1\n"
          ],
          "name": "stdout"
        }
      ]
    },
    {
      "cell_type": "code",
      "metadata": {
        "id": "XPTSq34jk4o_"
      },
      "source": [
        "# univariate -> num(features) = 1\n",
        "# multvariate -> num(features) > 1 = 11\n",
        "\n",
        "\n",
        "model = tf.keras.Sequential([\n",
        "                             tf.keras.layers.Dense(1)\n",
        "\n",
        "])"
      ],
      "execution_count": 68,
      "outputs": []
    },
    {
      "cell_type": "code",
      "metadata": {
        "id": "4C4GKBdE6iCE"
      },
      "source": [
        "model.compile(\n",
        "    loss = 'mean_absolute_error', #minimizing the MAE loss\n",
        "    optimizer = tf.keras.optimizers.Adam(0.001), #learning rate specified as 0.001\n",
        "    # optimizer = 'adam', #takes the default learning rate\n",
        "    metrics = ['mae', 'mse'] #meanSquare and meanAbsolute error metrics\n",
        ")"
      ],
      "execution_count": 70,
      "outputs": []
    },
    {
      "cell_type": "code",
      "metadata": {
        "colab": {
          "base_uri": "https://localhost:8080/"
        },
        "id": "d_A7DrhB6zvm",
        "outputId": "7f3d1aae-41c3-4683-f3a7-cfd82db07e9b"
      },
      "source": [
        "numEpochs = 300\n",
        "history = model.fit(x = trainFeatures, y = trainLabels, validation_data = (testFeatures, testLabels), epochs = numEpochs)"
      ],
      "execution_count": 71,
      "outputs": [
        {
          "output_type": "stream",
          "text": [
            "Epoch 1/300\n",
            "6/6 [==============================] - 1s 31ms/step - loss: 61.2504 - mae: 61.2504 - mse: 3785.6233 - val_loss: 60.4119 - val_mae: 60.4119 - val_mse: 3686.3367\n",
            "Epoch 2/300\n",
            "6/6 [==============================] - 0s 5ms/step - loss: 61.2365 - mae: 61.2365 - mse: 3783.9248 - val_loss: 60.3987 - val_mae: 60.3987 - val_mse: 3684.7390\n",
            "Epoch 3/300\n",
            "6/6 [==============================] - 0s 4ms/step - loss: 61.2226 - mae: 61.2226 - mse: 3782.2222 - val_loss: 60.3854 - val_mae: 60.3854 - val_mse: 3683.1414\n",
            "Epoch 4/300\n",
            "6/6 [==============================] - 0s 5ms/step - loss: 61.2086 - mae: 61.2086 - mse: 3780.5183 - val_loss: 60.3722 - val_mae: 60.3722 - val_mse: 3681.5449\n",
            "Epoch 5/300\n",
            "6/6 [==============================] - 0s 4ms/step - loss: 61.1948 - mae: 61.1948 - mse: 3778.8291 - val_loss: 60.3589 - val_mae: 60.3589 - val_mse: 3679.9480\n",
            "Epoch 6/300\n",
            "6/6 [==============================] - 0s 4ms/step - loss: 61.1808 - mae: 61.1808 - mse: 3777.1145 - val_loss: 60.3457 - val_mae: 60.3457 - val_mse: 3678.3547\n",
            "Epoch 7/300\n",
            "6/6 [==============================] - 0s 5ms/step - loss: 61.1668 - mae: 61.1668 - mse: 3775.4160 - val_loss: 60.3325 - val_mae: 60.3325 - val_mse: 3676.7629\n",
            "Epoch 8/300\n",
            "6/6 [==============================] - 0s 4ms/step - loss: 61.1528 - mae: 61.1528 - mse: 3773.7075 - val_loss: 60.3192 - val_mae: 60.3192 - val_mse: 3675.1741\n",
            "Epoch 9/300\n",
            "6/6 [==============================] - 0s 5ms/step - loss: 61.1390 - mae: 61.1390 - mse: 3772.0151 - val_loss: 60.3060 - val_mae: 60.3060 - val_mse: 3673.5793\n",
            "Epoch 10/300\n",
            "6/6 [==============================] - 0s 4ms/step - loss: 61.1251 - mae: 61.1251 - mse: 3770.3240 - val_loss: 60.2927 - val_mae: 60.2927 - val_mse: 3671.9836\n",
            "Epoch 11/300\n",
            "6/6 [==============================] - 0s 5ms/step - loss: 61.1111 - mae: 61.1111 - mse: 3768.6162 - val_loss: 60.2795 - val_mae: 60.2795 - val_mse: 3670.3914\n",
            "Epoch 12/300\n",
            "6/6 [==============================] - 0s 5ms/step - loss: 61.0971 - mae: 61.0971 - mse: 3766.9128 - val_loss: 60.2663 - val_mae: 60.2663 - val_mse: 3668.8027\n",
            "Epoch 13/300\n",
            "6/6 [==============================] - 0s 5ms/step - loss: 61.0833 - mae: 61.0833 - mse: 3765.2383 - val_loss: 60.2530 - val_mae: 60.2530 - val_mse: 3667.2058\n",
            "Epoch 14/300\n",
            "6/6 [==============================] - 0s 5ms/step - loss: 61.0692 - mae: 61.0692 - mse: 3763.5171 - val_loss: 60.2398 - val_mae: 60.2398 - val_mse: 3665.6184\n",
            "Epoch 15/300\n",
            "6/6 [==============================] - 0s 6ms/step - loss: 61.0553 - mae: 61.0553 - mse: 3761.8240 - val_loss: 60.2266 - val_mae: 60.2266 - val_mse: 3664.0286\n",
            "Epoch 16/300\n",
            "6/6 [==============================] - 0s 4ms/step - loss: 61.0414 - mae: 61.0414 - mse: 3760.1289 - val_loss: 60.2133 - val_mae: 60.2133 - val_mse: 3662.4402\n",
            "Epoch 17/300\n",
            "6/6 [==============================] - 0s 5ms/step - loss: 61.0274 - mae: 61.0274 - mse: 3758.4329 - val_loss: 60.2001 - val_mae: 60.2001 - val_mse: 3660.8503\n",
            "Epoch 18/300\n",
            "6/6 [==============================] - 0s 4ms/step - loss: 61.0135 - mae: 61.0135 - mse: 3756.7405 - val_loss: 60.1868 - val_mae: 60.1868 - val_mse: 3659.2585\n",
            "Epoch 19/300\n",
            "6/6 [==============================] - 0s 4ms/step - loss: 60.9996 - mae: 60.9996 - mse: 3755.0471 - val_loss: 60.1736 - val_mae: 60.1736 - val_mse: 3657.6672\n",
            "Epoch 20/300\n",
            "6/6 [==============================] - 0s 5ms/step - loss: 60.9857 - mae: 60.9857 - mse: 3753.3511 - val_loss: 60.1603 - val_mae: 60.1603 - val_mse: 3656.0771\n",
            "Epoch 21/300\n",
            "6/6 [==============================] - 0s 5ms/step - loss: 60.9717 - mae: 60.9717 - mse: 3751.6555 - val_loss: 60.1471 - val_mae: 60.1471 - val_mse: 3654.4871\n",
            "Epoch 22/300\n",
            "6/6 [==============================] - 0s 5ms/step - loss: 60.9577 - mae: 60.9577 - mse: 3749.9575 - val_loss: 60.1339 - val_mae: 60.1339 - val_mse: 3652.9016\n",
            "Epoch 23/300\n",
            "6/6 [==============================] - 0s 5ms/step - loss: 60.9438 - mae: 60.9438 - mse: 3748.2666 - val_loss: 60.1206 - val_mae: 60.1206 - val_mse: 3651.3145\n",
            "Epoch 24/300\n",
            "6/6 [==============================] - 0s 5ms/step - loss: 60.9300 - mae: 60.9300 - mse: 3746.5806 - val_loss: 60.1073 - val_mae: 60.1073 - val_mse: 3649.7229\n",
            "Epoch 25/300\n",
            "6/6 [==============================] - 0s 5ms/step - loss: 60.9159 - mae: 60.9159 - mse: 3744.8738 - val_loss: 60.0941 - val_mae: 60.0941 - val_mse: 3648.1379\n",
            "Epoch 26/300\n",
            "6/6 [==============================] - 0s 4ms/step - loss: 60.9020 - mae: 60.9020 - mse: 3743.1865 - val_loss: 60.0809 - val_mae: 60.0809 - val_mse: 3646.5535\n",
            "Epoch 27/300\n",
            "6/6 [==============================] - 0s 5ms/step - loss: 60.8881 - mae: 60.8881 - mse: 3741.5066 - val_loss: 60.0677 - val_mae: 60.0677 - val_mse: 3644.9656\n",
            "Epoch 28/300\n",
            "6/6 [==============================] - 0s 5ms/step - loss: 60.8742 - mae: 60.8742 - mse: 3739.8079 - val_loss: 60.0544 - val_mae: 60.0544 - val_mse: 3643.3789\n",
            "Epoch 29/300\n",
            "6/6 [==============================] - 0s 5ms/step - loss: 60.8603 - mae: 60.8603 - mse: 3738.1309 - val_loss: 60.0412 - val_mae: 60.0412 - val_mse: 3641.7910\n",
            "Epoch 30/300\n",
            "6/6 [==============================] - 0s 5ms/step - loss: 60.8463 - mae: 60.8463 - mse: 3736.4231 - val_loss: 60.0279 - val_mae: 60.0279 - val_mse: 3640.2083\n",
            "Epoch 31/300\n",
            "6/6 [==============================] - 0s 4ms/step - loss: 60.8324 - mae: 60.8324 - mse: 3734.7402 - val_loss: 60.0147 - val_mae: 60.0147 - val_mse: 3638.6250\n",
            "Epoch 32/300\n",
            "6/6 [==============================] - 0s 5ms/step - loss: 60.8185 - mae: 60.8185 - mse: 3733.0532 - val_loss: 60.0014 - val_mae: 60.0014 - val_mse: 3637.0364\n",
            "Epoch 33/300\n",
            "6/6 [==============================] - 0s 4ms/step - loss: 60.8044 - mae: 60.8044 - mse: 3731.3569 - val_loss: 59.9882 - val_mae: 59.9882 - val_mse: 3635.4568\n",
            "Epoch 34/300\n",
            "6/6 [==============================] - 0s 4ms/step - loss: 60.7905 - mae: 60.7905 - mse: 3729.6675 - val_loss: 59.9750 - val_mae: 59.9750 - val_mse: 3633.8750\n",
            "Epoch 35/300\n",
            "6/6 [==============================] - 0s 5ms/step - loss: 60.7767 - mae: 60.7767 - mse: 3727.9907 - val_loss: 59.9618 - val_mae: 59.9618 - val_mse: 3632.2898\n",
            "Epoch 36/300\n",
            "6/6 [==============================] - 0s 6ms/step - loss: 60.7627 - mae: 60.7627 - mse: 3726.2949 - val_loss: 59.9485 - val_mae: 59.9485 - val_mse: 3630.7061\n",
            "Epoch 37/300\n",
            "6/6 [==============================] - 0s 5ms/step - loss: 60.7488 - mae: 60.7488 - mse: 3724.6038 - val_loss: 59.9353 - val_mae: 59.9353 - val_mse: 3629.1243\n",
            "Epoch 38/300\n",
            "6/6 [==============================] - 0s 5ms/step - loss: 60.7348 - mae: 60.7348 - mse: 3722.9229 - val_loss: 59.9221 - val_mae: 59.9221 - val_mse: 3627.5430\n",
            "Epoch 39/300\n",
            "6/6 [==============================] - 0s 5ms/step - loss: 60.7209 - mae: 60.7209 - mse: 3721.2317 - val_loss: 59.9088 - val_mae: 59.9088 - val_mse: 3625.9631\n",
            "Epoch 40/300\n",
            "6/6 [==============================] - 0s 4ms/step - loss: 60.7070 - mae: 60.7070 - mse: 3719.5432 - val_loss: 59.8956 - val_mae: 59.8956 - val_mse: 3624.3821\n",
            "Epoch 41/300\n",
            "6/6 [==============================] - 0s 6ms/step - loss: 60.6930 - mae: 60.6930 - mse: 3717.8540 - val_loss: 59.8824 - val_mae: 59.8824 - val_mse: 3622.8010\n",
            "Epoch 42/300\n",
            "6/6 [==============================] - 0s 8ms/step - loss: 60.6791 - mae: 60.6791 - mse: 3716.1780 - val_loss: 59.8691 - val_mae: 59.8691 - val_mse: 3621.2175\n",
            "Epoch 43/300\n",
            "6/6 [==============================] - 0s 5ms/step - loss: 60.6651 - mae: 60.6651 - mse: 3714.4797 - val_loss: 59.8559 - val_mae: 59.8559 - val_mse: 3619.6414\n",
            "Epoch 44/300\n",
            "6/6 [==============================] - 0s 5ms/step - loss: 60.6513 - mae: 60.6513 - mse: 3712.8074 - val_loss: 59.8426 - val_mae: 59.8426 - val_mse: 3618.0574\n",
            "Epoch 45/300\n",
            "6/6 [==============================] - 0s 5ms/step - loss: 60.6373 - mae: 60.6373 - mse: 3711.1218 - val_loss: 59.8294 - val_mae: 59.8294 - val_mse: 3616.4778\n",
            "Epoch 46/300\n",
            "6/6 [==============================] - 0s 5ms/step - loss: 60.6234 - mae: 60.6234 - mse: 3709.4404 - val_loss: 59.8161 - val_mae: 59.8161 - val_mse: 3614.8965\n",
            "Epoch 47/300\n",
            "6/6 [==============================] - 0s 5ms/step - loss: 60.6094 - mae: 60.6094 - mse: 3707.7522 - val_loss: 59.8029 - val_mae: 59.8029 - val_mse: 3613.3191\n",
            "Epoch 48/300\n",
            "6/6 [==============================] - 0s 5ms/step - loss: 60.5955 - mae: 60.5955 - mse: 3706.0674 - val_loss: 59.7897 - val_mae: 59.7897 - val_mse: 3611.7402\n",
            "Epoch 49/300\n",
            "6/6 [==============================] - 0s 5ms/step - loss: 60.5816 - mae: 60.5816 - mse: 3704.3887 - val_loss: 59.7764 - val_mae: 59.7764 - val_mse: 3610.1594\n",
            "Epoch 50/300\n",
            "6/6 [==============================] - 0s 4ms/step - loss: 60.5675 - mae: 60.5675 - mse: 3702.6902 - val_loss: 59.7632 - val_mae: 59.7632 - val_mse: 3608.5876\n",
            "Epoch 51/300\n",
            "6/6 [==============================] - 0s 5ms/step - loss: 60.5537 - mae: 60.5537 - mse: 3701.0229 - val_loss: 59.7500 - val_mae: 59.7500 - val_mse: 3607.0066\n",
            "Epoch 52/300\n",
            "6/6 [==============================] - 0s 4ms/step - loss: 60.5397 - mae: 60.5397 - mse: 3699.3315 - val_loss: 59.7367 - val_mae: 59.7367 - val_mse: 3605.4319\n",
            "Epoch 53/300\n",
            "6/6 [==============================] - 0s 4ms/step - loss: 60.5259 - mae: 60.5259 - mse: 3697.6689 - val_loss: 59.7235 - val_mae: 59.7235 - val_mse: 3603.8516\n",
            "Epoch 54/300\n",
            "6/6 [==============================] - 0s 5ms/step - loss: 60.5119 - mae: 60.5119 - mse: 3695.9739 - val_loss: 59.7103 - val_mae: 59.7103 - val_mse: 3602.2766\n",
            "Epoch 55/300\n",
            "6/6 [==============================] - 0s 5ms/step - loss: 60.4980 - mae: 60.4980 - mse: 3694.2979 - val_loss: 59.6970 - val_mae: 59.6970 - val_mse: 3600.7009\n",
            "Epoch 56/300\n",
            "6/6 [==============================] - 0s 5ms/step - loss: 60.4840 - mae: 60.4840 - mse: 3692.6238 - val_loss: 59.6838 - val_mae: 59.6838 - val_mse: 3599.1250\n",
            "Epoch 57/300\n",
            "6/6 [==============================] - 0s 5ms/step - loss: 60.4701 - mae: 60.4701 - mse: 3690.9333 - val_loss: 59.6705 - val_mae: 59.6705 - val_mse: 3597.5508\n",
            "Epoch 58/300\n",
            "6/6 [==============================] - 0s 5ms/step - loss: 60.4561 - mae: 60.4561 - mse: 3689.2522 - val_loss: 59.6573 - val_mae: 59.6573 - val_mse: 3595.9766\n",
            "Epoch 59/300\n",
            "6/6 [==============================] - 0s 5ms/step - loss: 60.4422 - mae: 60.4422 - mse: 3687.5854 - val_loss: 59.6441 - val_mae: 59.6441 - val_mse: 3594.4004\n",
            "Epoch 60/300\n",
            "6/6 [==============================] - 0s 4ms/step - loss: 60.4282 - mae: 60.4282 - mse: 3685.8914 - val_loss: 59.6309 - val_mae: 59.6309 - val_mse: 3592.8301\n",
            "Epoch 61/300\n",
            "6/6 [==============================] - 0s 5ms/step - loss: 60.4144 - mae: 60.4144 - mse: 3684.2253 - val_loss: 59.6176 - val_mae: 59.6176 - val_mse: 3591.2561\n",
            "Epoch 62/300\n",
            "6/6 [==============================] - 0s 4ms/step - loss: 60.4005 - mae: 60.4005 - mse: 3682.5542 - val_loss: 59.6044 - val_mae: 59.6044 - val_mse: 3589.6799\n",
            "Epoch 63/300\n",
            "6/6 [==============================] - 0s 5ms/step - loss: 60.3865 - mae: 60.3865 - mse: 3680.8760 - val_loss: 59.5911 - val_mae: 59.5911 - val_mse: 3588.1047\n",
            "Epoch 64/300\n",
            "6/6 [==============================] - 0s 5ms/step - loss: 60.3725 - mae: 60.3725 - mse: 3679.1936 - val_loss: 59.5779 - val_mae: 59.5779 - val_mse: 3586.5344\n",
            "Epoch 65/300\n",
            "6/6 [==============================] - 0s 5ms/step - loss: 60.3586 - mae: 60.3586 - mse: 3677.5161 - val_loss: 59.5647 - val_mae: 59.5647 - val_mse: 3584.9636\n",
            "Epoch 66/300\n",
            "6/6 [==============================] - 0s 5ms/step - loss: 60.3447 - mae: 60.3447 - mse: 3675.8391 - val_loss: 59.5514 - val_mae: 59.5514 - val_mse: 3583.3926\n",
            "Epoch 67/300\n",
            "6/6 [==============================] - 0s 4ms/step - loss: 60.3308 - mae: 60.3308 - mse: 3674.1685 - val_loss: 59.5382 - val_mae: 59.5382 - val_mse: 3581.8184\n",
            "Epoch 68/300\n",
            "6/6 [==============================] - 0s 5ms/step - loss: 60.3168 - mae: 60.3168 - mse: 3672.4954 - val_loss: 59.5249 - val_mae: 59.5249 - val_mse: 3580.2461\n",
            "Epoch 69/300\n",
            "6/6 [==============================] - 0s 5ms/step - loss: 60.3029 - mae: 60.3029 - mse: 3670.8096 - val_loss: 59.5117 - val_mae: 59.5117 - val_mse: 3578.6765\n",
            "Epoch 70/300\n",
            "6/6 [==============================] - 0s 6ms/step - loss: 60.2890 - mae: 60.2890 - mse: 3669.1387 - val_loss: 59.4985 - val_mae: 59.4985 - val_mse: 3577.1042\n",
            "Epoch 71/300\n",
            "6/6 [==============================] - 0s 5ms/step - loss: 60.2750 - mae: 60.2750 - mse: 3667.4675 - val_loss: 59.4852 - val_mae: 59.4852 - val_mse: 3575.5359\n",
            "Epoch 72/300\n",
            "6/6 [==============================] - 0s 4ms/step - loss: 60.2611 - mae: 60.2611 - mse: 3665.7913 - val_loss: 59.4720 - val_mae: 59.4720 - val_mse: 3573.9680\n",
            "Epoch 73/300\n",
            "6/6 [==============================] - 0s 4ms/step - loss: 60.2472 - mae: 60.2472 - mse: 3664.1267 - val_loss: 59.4587 - val_mae: 59.4587 - val_mse: 3572.3936\n",
            "Epoch 74/300\n",
            "6/6 [==============================] - 0s 5ms/step - loss: 60.2333 - mae: 60.2333 - mse: 3662.4490 - val_loss: 59.4455 - val_mae: 59.4455 - val_mse: 3570.8215\n",
            "Epoch 75/300\n",
            "6/6 [==============================] - 0s 5ms/step - loss: 60.2193 - mae: 60.2193 - mse: 3660.7710 - val_loss: 59.4323 - val_mae: 59.4323 - val_mse: 3569.2551\n",
            "Epoch 76/300\n",
            "6/6 [==============================] - 0s 5ms/step - loss: 60.2054 - mae: 60.2054 - mse: 3659.1079 - val_loss: 59.4190 - val_mae: 59.4190 - val_mse: 3567.6855\n",
            "Epoch 77/300\n",
            "6/6 [==============================] - 0s 4ms/step - loss: 60.1914 - mae: 60.1914 - mse: 3657.4385 - val_loss: 59.4058 - val_mae: 59.4058 - val_mse: 3566.1172\n",
            "Epoch 78/300\n",
            "6/6 [==============================] - 0s 5ms/step - loss: 60.1774 - mae: 60.1774 - mse: 3655.7556 - val_loss: 59.3926 - val_mae: 59.3926 - val_mse: 3564.5540\n",
            "Epoch 79/300\n",
            "6/6 [==============================] - 0s 5ms/step - loss: 60.1636 - mae: 60.1636 - mse: 3654.0891 - val_loss: 59.3793 - val_mae: 59.3793 - val_mse: 3562.9844\n",
            "Epoch 80/300\n",
            "6/6 [==============================] - 0s 4ms/step - loss: 60.1496 - mae: 60.1496 - mse: 3652.4065 - val_loss: 59.3661 - val_mae: 59.3661 - val_mse: 3561.4216\n",
            "Epoch 81/300\n",
            "6/6 [==============================] - 0s 5ms/step - loss: 60.1357 - mae: 60.1357 - mse: 3650.7595 - val_loss: 59.3528 - val_mae: 59.3528 - val_mse: 3559.8523\n",
            "Epoch 82/300\n",
            "6/6 [==============================] - 0s 5ms/step - loss: 60.1217 - mae: 60.1217 - mse: 3649.0801 - val_loss: 59.3396 - val_mae: 59.3396 - val_mse: 3558.2864\n",
            "Epoch 83/300\n",
            "6/6 [==============================] - 0s 6ms/step - loss: 60.1079 - mae: 60.1079 - mse: 3647.4185 - val_loss: 59.3264 - val_mae: 59.3264 - val_mse: 3556.7178\n",
            "Epoch 84/300\n",
            "6/6 [==============================] - 0s 5ms/step - loss: 60.0938 - mae: 60.0938 - mse: 3645.7393 - val_loss: 59.3132 - val_mae: 59.3132 - val_mse: 3555.1565\n",
            "Epoch 85/300\n",
            "6/6 [==============================] - 0s 5ms/step - loss: 60.0799 - mae: 60.0799 - mse: 3644.0747 - val_loss: 59.2999 - val_mae: 59.2999 - val_mse: 3553.5916\n",
            "Epoch 86/300\n",
            "6/6 [==============================] - 0s 5ms/step - loss: 60.0660 - mae: 60.0660 - mse: 3642.4128 - val_loss: 59.2867 - val_mae: 59.2867 - val_mse: 3552.0242\n",
            "Epoch 87/300\n",
            "6/6 [==============================] - 0s 5ms/step - loss: 60.0521 - mae: 60.0521 - mse: 3640.7378 - val_loss: 59.2734 - val_mae: 59.2734 - val_mse: 3550.4583\n",
            "Epoch 88/300\n",
            "6/6 [==============================] - 0s 5ms/step - loss: 60.0381 - mae: 60.0381 - mse: 3639.0771 - val_loss: 59.2602 - val_mae: 59.2602 - val_mse: 3548.8948\n",
            "Epoch 89/300\n",
            "6/6 [==============================] - 0s 7ms/step - loss: 60.0242 - mae: 60.0242 - mse: 3637.3972 - val_loss: 59.2470 - val_mae: 59.2470 - val_mse: 3547.3340\n",
            "Epoch 90/300\n",
            "6/6 [==============================] - 0s 6ms/step - loss: 60.0103 - mae: 60.0103 - mse: 3635.7346 - val_loss: 59.2337 - val_mae: 59.2337 - val_mse: 3545.7683\n",
            "Epoch 91/300\n",
            "6/6 [==============================] - 0s 6ms/step - loss: 59.9962 - mae: 59.9962 - mse: 3634.0615 - val_loss: 59.2205 - val_mae: 59.2205 - val_mse: 3544.2129\n",
            "Epoch 92/300\n",
            "6/6 [==============================] - 0s 5ms/step - loss: 59.9825 - mae: 59.9825 - mse: 3632.4248 - val_loss: 59.2072 - val_mae: 59.2072 - val_mse: 3542.6418\n",
            "Epoch 93/300\n",
            "6/6 [==============================] - 0s 4ms/step - loss: 59.9684 - mae: 59.9684 - mse: 3630.7368 - val_loss: 59.1940 - val_mae: 59.1940 - val_mse: 3541.0828\n",
            "Epoch 94/300\n",
            "6/6 [==============================] - 0s 5ms/step - loss: 59.9546 - mae: 59.9546 - mse: 3629.0752 - val_loss: 59.1808 - val_mae: 59.1808 - val_mse: 3539.5198\n",
            "Epoch 95/300\n",
            "6/6 [==============================] - 0s 5ms/step - loss: 59.9406 - mae: 59.9406 - mse: 3627.4104 - val_loss: 59.1675 - val_mae: 59.1675 - val_mse: 3537.9590\n",
            "Epoch 96/300\n",
            "6/6 [==============================] - 0s 5ms/step - loss: 59.9266 - mae: 59.9266 - mse: 3625.7473 - val_loss: 59.1543 - val_mae: 59.1543 - val_mse: 3536.3997\n",
            "Epoch 97/300\n",
            "6/6 [==============================] - 0s 6ms/step - loss: 59.9127 - mae: 59.9127 - mse: 3624.0835 - val_loss: 59.1411 - val_mae: 59.1411 - val_mse: 3534.8411\n",
            "Epoch 98/300\n",
            "6/6 [==============================] - 0s 7ms/step - loss: 59.8987 - mae: 59.8987 - mse: 3622.4143 - val_loss: 59.1279 - val_mae: 59.1279 - val_mse: 3533.2844\n",
            "Epoch 99/300\n",
            "6/6 [==============================] - 0s 5ms/step - loss: 59.8850 - mae: 59.8850 - mse: 3620.7642 - val_loss: 59.1146 - val_mae: 59.1146 - val_mse: 3531.7178\n",
            "Epoch 100/300\n",
            "6/6 [==============================] - 0s 5ms/step - loss: 59.8710 - mae: 59.8710 - mse: 3619.1001 - val_loss: 59.1013 - val_mae: 59.1013 - val_mse: 3530.1533\n",
            "Epoch 101/300\n",
            "6/6 [==============================] - 0s 5ms/step - loss: 59.8570 - mae: 59.8570 - mse: 3617.4397 - val_loss: 59.0881 - val_mae: 59.0881 - val_mse: 3528.5945\n",
            "Epoch 102/300\n",
            "6/6 [==============================] - 0s 5ms/step - loss: 59.8430 - mae: 59.8430 - mse: 3615.7690 - val_loss: 59.0749 - val_mae: 59.0749 - val_mse: 3527.0371\n",
            "Epoch 103/300\n",
            "6/6 [==============================] - 0s 5ms/step - loss: 59.8291 - mae: 59.8291 - mse: 3614.1138 - val_loss: 59.0616 - val_mae: 59.0616 - val_mse: 3525.4768\n",
            "Epoch 104/300\n",
            "6/6 [==============================] - 0s 6ms/step - loss: 59.8152 - mae: 59.8152 - mse: 3612.4521 - val_loss: 59.0483 - val_mae: 59.0483 - val_mse: 3523.9158\n",
            "Epoch 105/300\n",
            "6/6 [==============================] - 0s 5ms/step - loss: 59.8013 - mae: 59.8013 - mse: 3610.7932 - val_loss: 59.0351 - val_mae: 59.0351 - val_mse: 3522.3555\n",
            "Epoch 106/300\n",
            "6/6 [==============================] - 0s 5ms/step - loss: 59.7873 - mae: 59.7873 - mse: 3609.1250 - val_loss: 59.0219 - val_mae: 59.0219 - val_mse: 3520.8005\n",
            "Epoch 107/300\n",
            "6/6 [==============================] - 0s 5ms/step - loss: 59.7733 - mae: 59.7733 - mse: 3607.4636 - val_loss: 59.0087 - val_mae: 59.0087 - val_mse: 3519.2488\n",
            "Epoch 108/300\n",
            "6/6 [==============================] - 0s 5ms/step - loss: 59.7594 - mae: 59.7594 - mse: 3605.8105 - val_loss: 58.9955 - val_mae: 58.9955 - val_mse: 3517.6934\n",
            "Epoch 109/300\n",
            "6/6 [==============================] - 0s 5ms/step - loss: 59.7456 - mae: 59.7456 - mse: 3604.1604 - val_loss: 58.9822 - val_mae: 58.9822 - val_mse: 3516.1309\n",
            "Epoch 110/300\n",
            "6/6 [==============================] - 0s 9ms/step - loss: 59.7317 - mae: 59.7317 - mse: 3602.4973 - val_loss: 58.9689 - val_mae: 58.9689 - val_mse: 3514.5696\n",
            "Epoch 111/300\n",
            "6/6 [==============================] - 0s 6ms/step - loss: 59.7177 - mae: 59.7177 - mse: 3600.8406 - val_loss: 58.9556 - val_mae: 58.9556 - val_mse: 3513.0137\n",
            "Epoch 112/300\n",
            "6/6 [==============================] - 0s 5ms/step - loss: 59.7036 - mae: 59.7036 - mse: 3599.1729 - val_loss: 58.9424 - val_mae: 58.9424 - val_mse: 3511.4622\n",
            "Epoch 113/300\n",
            "6/6 [==============================] - 0s 4ms/step - loss: 59.6898 - mae: 59.6898 - mse: 3597.5281 - val_loss: 58.9292 - val_mae: 58.9292 - val_mse: 3509.9065\n",
            "Epoch 114/300\n",
            "6/6 [==============================] - 0s 5ms/step - loss: 59.6758 - mae: 59.6758 - mse: 3595.8625 - val_loss: 58.9160 - val_mae: 58.9160 - val_mse: 3508.3552\n",
            "Epoch 115/300\n",
            "6/6 [==============================] - 0s 5ms/step - loss: 59.6619 - mae: 59.6619 - mse: 3594.2056 - val_loss: 58.9028 - val_mae: 58.9028 - val_mse: 3506.8030\n",
            "Epoch 116/300\n",
            "6/6 [==============================] - 0s 5ms/step - loss: 59.6480 - mae: 59.6480 - mse: 3592.5532 - val_loss: 58.8895 - val_mae: 58.8895 - val_mse: 3505.2488\n",
            "Epoch 117/300\n",
            "6/6 [==============================] - 0s 5ms/step - loss: 59.6340 - mae: 59.6340 - mse: 3590.8923 - val_loss: 58.8763 - val_mae: 58.8763 - val_mse: 3503.6941\n",
            "Epoch 118/300\n",
            "6/6 [==============================] - 0s 5ms/step - loss: 59.6200 - mae: 59.6200 - mse: 3589.2375 - val_loss: 58.8631 - val_mae: 58.8631 - val_mse: 3502.1448\n",
            "Epoch 119/300\n",
            "6/6 [==============================] - 0s 6ms/step - loss: 59.6062 - mae: 59.6062 - mse: 3587.5935 - val_loss: 58.8498 - val_mae: 58.8498 - val_mse: 3500.5898\n",
            "Epoch 120/300\n",
            "6/6 [==============================] - 0s 6ms/step - loss: 59.5923 - mae: 59.5923 - mse: 3585.9412 - val_loss: 58.8365 - val_mae: 58.8365 - val_mse: 3499.0325\n",
            "Epoch 121/300\n",
            "6/6 [==============================] - 0s 5ms/step - loss: 59.5783 - mae: 59.5783 - mse: 3584.2729 - val_loss: 58.8233 - val_mae: 58.8233 - val_mse: 3497.4817\n",
            "Epoch 122/300\n",
            "6/6 [==============================] - 0s 5ms/step - loss: 59.5644 - mae: 59.5644 - mse: 3582.6289 - val_loss: 58.8101 - val_mae: 58.8101 - val_mse: 3495.9277\n",
            "Epoch 123/300\n",
            "6/6 [==============================] - 0s 6ms/step - loss: 59.5503 - mae: 59.5503 - mse: 3580.9653 - val_loss: 58.7969 - val_mae: 58.7969 - val_mse: 3494.3826\n",
            "Epoch 124/300\n",
            "6/6 [==============================] - 0s 5ms/step - loss: 59.5365 - mae: 59.5365 - mse: 3579.3181 - val_loss: 58.7836 - val_mae: 58.7836 - val_mse: 3492.8313\n",
            "Epoch 125/300\n",
            "6/6 [==============================] - 0s 5ms/step - loss: 59.5226 - mae: 59.5226 - mse: 3577.6814 - val_loss: 58.7704 - val_mae: 58.7704 - val_mse: 3491.2773\n",
            "Epoch 126/300\n",
            "6/6 [==============================] - 0s 6ms/step - loss: 59.5086 - mae: 59.5086 - mse: 3576.0190 - val_loss: 58.7571 - val_mae: 58.7571 - val_mse: 3489.7249\n",
            "Epoch 127/300\n",
            "6/6 [==============================] - 0s 5ms/step - loss: 59.4947 - mae: 59.4947 - mse: 3574.3655 - val_loss: 58.7439 - val_mae: 58.7439 - val_mse: 3488.1738\n",
            "Epoch 128/300\n",
            "6/6 [==============================] - 0s 6ms/step - loss: 59.4806 - mae: 59.4806 - mse: 3572.7039 - val_loss: 58.7307 - val_mae: 58.7307 - val_mse: 3486.6301\n",
            "Epoch 129/300\n",
            "6/6 [==============================] - 0s 5ms/step - loss: 59.4669 - mae: 59.4669 - mse: 3571.0762 - val_loss: 58.7174 - val_mae: 58.7174 - val_mse: 3485.0745\n",
            "Epoch 130/300\n",
            "6/6 [==============================] - 0s 5ms/step - loss: 59.4529 - mae: 59.4529 - mse: 3569.4045 - val_loss: 58.7042 - val_mae: 58.7042 - val_mse: 3483.5261\n",
            "Epoch 131/300\n",
            "6/6 [==============================] - 0s 6ms/step - loss: 59.4389 - mae: 59.4389 - mse: 3567.7583 - val_loss: 58.6909 - val_mae: 58.6909 - val_mse: 3481.9792\n",
            "Epoch 132/300\n",
            "6/6 [==============================] - 0s 6ms/step - loss: 59.4251 - mae: 59.4251 - mse: 3566.1289 - val_loss: 58.6777 - val_mae: 58.6777 - val_mse: 3480.4265\n",
            "Epoch 133/300\n",
            "6/6 [==============================] - 0s 4ms/step - loss: 59.4110 - mae: 59.4110 - mse: 3564.4646 - val_loss: 58.6644 - val_mae: 58.6644 - val_mse: 3478.8801\n",
            "Epoch 134/300\n",
            "6/6 [==============================] - 0s 6ms/step - loss: 59.3970 - mae: 59.3970 - mse: 3562.8042 - val_loss: 58.6513 - val_mae: 58.6513 - val_mse: 3477.3398\n",
            "Epoch 135/300\n",
            "6/6 [==============================] - 0s 5ms/step - loss: 59.3833 - mae: 59.3833 - mse: 3561.1729 - val_loss: 58.6380 - val_mae: 58.6380 - val_mse: 3475.7891\n",
            "Epoch 136/300\n",
            "6/6 [==============================] - 0s 5ms/step - loss: 59.3692 - mae: 59.3692 - mse: 3559.5164 - val_loss: 58.6248 - val_mae: 58.6248 - val_mse: 3474.2463\n",
            "Epoch 137/300\n",
            "6/6 [==============================] - 0s 6ms/step - loss: 59.3554 - mae: 59.3554 - mse: 3557.8730 - val_loss: 58.6115 - val_mae: 58.6115 - val_mse: 3472.6965\n",
            "Epoch 138/300\n",
            "6/6 [==============================] - 0s 4ms/step - loss: 59.3414 - mae: 59.3414 - mse: 3556.2251 - val_loss: 58.5983 - val_mae: 58.5983 - val_mse: 3471.1526\n",
            "Epoch 139/300\n",
            "6/6 [==============================] - 0s 8ms/step - loss: 59.3275 - mae: 59.3275 - mse: 3554.5786 - val_loss: 58.5850 - val_mae: 58.5850 - val_mse: 3469.6064\n",
            "Epoch 140/300\n",
            "6/6 [==============================] - 0s 5ms/step - loss: 59.3135 - mae: 59.3135 - mse: 3552.9277 - val_loss: 58.5718 - val_mae: 58.5718 - val_mse: 3468.0632\n",
            "Epoch 141/300\n",
            "6/6 [==============================] - 0s 4ms/step - loss: 59.2996 - mae: 59.2996 - mse: 3551.2866 - val_loss: 58.5586 - val_mae: 58.5586 - val_mse: 3466.5176\n",
            "Epoch 142/300\n",
            "6/6 [==============================] - 0s 5ms/step - loss: 59.2856 - mae: 59.2856 - mse: 3549.6387 - val_loss: 58.5454 - val_mae: 58.5454 - val_mse: 3464.9758\n",
            "Epoch 143/300\n",
            "6/6 [==============================] - 0s 5ms/step - loss: 59.2717 - mae: 59.2717 - mse: 3547.9915 - val_loss: 58.5321 - val_mae: 58.5321 - val_mse: 3463.4329\n",
            "Epoch 144/300\n",
            "6/6 [==============================] - 0s 7ms/step - loss: 59.2578 - mae: 59.2578 - mse: 3546.3474 - val_loss: 58.5189 - val_mae: 58.5189 - val_mse: 3461.8887\n",
            "Epoch 145/300\n",
            "6/6 [==============================] - 0s 5ms/step - loss: 59.2439 - mae: 59.2439 - mse: 3544.7114 - val_loss: 58.5056 - val_mae: 58.5056 - val_mse: 3460.3411\n",
            "Epoch 146/300\n",
            "6/6 [==============================] - 0s 11ms/step - loss: 59.2299 - mae: 59.2299 - mse: 3543.0686 - val_loss: 58.4924 - val_mae: 58.4924 - val_mse: 3458.7976\n",
            "Epoch 147/300\n",
            "6/6 [==============================] - 0s 5ms/step - loss: 59.2160 - mae: 59.2160 - mse: 3541.4219 - val_loss: 58.4791 - val_mae: 58.4791 - val_mse: 3457.2546\n",
            "Epoch 148/300\n",
            "6/6 [==============================] - 0s 6ms/step - loss: 59.2020 - mae: 59.2020 - mse: 3539.7776 - val_loss: 58.4659 - val_mae: 58.4659 - val_mse: 3455.7109\n",
            "Epoch 149/300\n",
            "6/6 [==============================] - 0s 6ms/step - loss: 59.1881 - mae: 59.1881 - mse: 3538.1321 - val_loss: 58.4526 - val_mae: 58.4526 - val_mse: 3454.1682\n",
            "Epoch 150/300\n",
            "6/6 [==============================] - 0s 5ms/step - loss: 59.1742 - mae: 59.1742 - mse: 3536.4907 - val_loss: 58.4394 - val_mae: 58.4394 - val_mse: 3452.6257\n",
            "Epoch 151/300\n",
            "6/6 [==============================] - 0s 6ms/step - loss: 59.1602 - mae: 59.1602 - mse: 3534.8423 - val_loss: 58.4262 - val_mae: 58.4262 - val_mse: 3451.0867\n",
            "Epoch 152/300\n",
            "6/6 [==============================] - 0s 5ms/step - loss: 59.1463 - mae: 59.1463 - mse: 3533.2100 - val_loss: 58.4129 - val_mae: 58.4129 - val_mse: 3449.5452\n",
            "Epoch 153/300\n",
            "6/6 [==============================] - 0s 6ms/step - loss: 59.1324 - mae: 59.1324 - mse: 3531.5681 - val_loss: 58.3997 - val_mae: 58.3997 - val_mse: 3448.0020\n",
            "Epoch 154/300\n",
            "6/6 [==============================] - 0s 5ms/step - loss: 59.1185 - mae: 59.1185 - mse: 3529.9272 - val_loss: 58.3864 - val_mae: 58.3864 - val_mse: 3446.4600\n",
            "Epoch 155/300\n",
            "6/6 [==============================] - 0s 5ms/step - loss: 59.1046 - mae: 59.1046 - mse: 3528.2942 - val_loss: 58.3731 - val_mae: 58.3731 - val_mse: 3444.9153\n",
            "Epoch 156/300\n",
            "6/6 [==============================] - 0s 6ms/step - loss: 59.0905 - mae: 59.0905 - mse: 3526.6426 - val_loss: 58.3599 - val_mae: 58.3599 - val_mse: 3443.3782\n",
            "Epoch 157/300\n",
            "6/6 [==============================] - 0s 5ms/step - loss: 59.0766 - mae: 59.0766 - mse: 3525.0103 - val_loss: 58.3467 - val_mae: 58.3467 - val_mse: 3441.8396\n",
            "Epoch 158/300\n",
            "6/6 [==============================] - 0s 7ms/step - loss: 59.0627 - mae: 59.0627 - mse: 3523.3623 - val_loss: 58.3335 - val_mae: 58.3335 - val_mse: 3440.3035\n",
            "Epoch 159/300\n",
            "6/6 [==============================] - 0s 5ms/step - loss: 59.0487 - mae: 59.0487 - mse: 3521.7261 - val_loss: 58.3203 - val_mae: 58.3203 - val_mse: 3438.7688\n",
            "Epoch 160/300\n",
            "6/6 [==============================] - 0s 5ms/step - loss: 59.0348 - mae: 59.0348 - mse: 3520.0950 - val_loss: 58.3070 - val_mae: 58.3070 - val_mse: 3437.2317\n",
            "Epoch 161/300\n",
            "6/6 [==============================] - 0s 5ms/step - loss: 59.0209 - mae: 59.0209 - mse: 3518.4641 - val_loss: 58.2938 - val_mae: 58.2938 - val_mse: 3435.6921\n",
            "Epoch 162/300\n",
            "6/6 [==============================] - 0s 5ms/step - loss: 59.0069 - mae: 59.0069 - mse: 3516.8213 - val_loss: 58.2806 - val_mae: 58.2806 - val_mse: 3434.1565\n",
            "Epoch 163/300\n",
            "6/6 [==============================] - 0s 6ms/step - loss: 58.9930 - mae: 58.9930 - mse: 3515.1885 - val_loss: 58.2673 - val_mae: 58.2673 - val_mse: 3432.6179\n",
            "Epoch 164/300\n",
            "6/6 [==============================] - 0s 5ms/step - loss: 58.9791 - mae: 58.9791 - mse: 3513.5500 - val_loss: 58.2541 - val_mae: 58.2541 - val_mse: 3431.0781\n",
            "Epoch 165/300\n",
            "6/6 [==============================] - 0s 5ms/step - loss: 58.9651 - mae: 58.9651 - mse: 3511.9019 - val_loss: 58.2408 - val_mae: 58.2408 - val_mse: 3429.5432\n",
            "Epoch 166/300\n",
            "6/6 [==============================] - 0s 4ms/step - loss: 58.9512 - mae: 58.9512 - mse: 3510.2646 - val_loss: 58.2276 - val_mae: 58.2276 - val_mse: 3428.0081\n",
            "Epoch 167/300\n",
            "6/6 [==============================] - 0s 6ms/step - loss: 58.9373 - mae: 58.9373 - mse: 3508.6445 - val_loss: 58.2143 - val_mae: 58.2143 - val_mse: 3426.4697\n",
            "Epoch 168/300\n",
            "6/6 [==============================] - 0s 5ms/step - loss: 58.9233 - mae: 58.9233 - mse: 3507.0085 - val_loss: 58.2011 - val_mae: 58.2011 - val_mse: 3424.9343\n",
            "Epoch 169/300\n",
            "6/6 [==============================] - 0s 5ms/step - loss: 58.9094 - mae: 58.9094 - mse: 3505.3691 - val_loss: 58.1878 - val_mae: 58.1878 - val_mse: 3423.3984\n",
            "Epoch 170/300\n",
            "6/6 [==============================] - 0s 5ms/step - loss: 58.8954 - mae: 58.8954 - mse: 3503.7334 - val_loss: 58.1746 - val_mae: 58.1746 - val_mse: 3421.8665\n",
            "Epoch 171/300\n",
            "6/6 [==============================] - 0s 6ms/step - loss: 58.8815 - mae: 58.8815 - mse: 3502.0969 - val_loss: 58.1614 - val_mae: 58.1614 - val_mse: 3420.3330\n",
            "Epoch 172/300\n",
            "6/6 [==============================] - 0s 7ms/step - loss: 58.8677 - mae: 58.8677 - mse: 3500.4705 - val_loss: 58.1481 - val_mae: 58.1481 - val_mse: 3418.7966\n",
            "Epoch 173/300\n",
            "6/6 [==============================] - 0s 6ms/step - loss: 58.8536 - mae: 58.8536 - mse: 3498.8298 - val_loss: 58.1349 - val_mae: 58.1349 - val_mse: 3417.2666\n",
            "Epoch 174/300\n",
            "6/6 [==============================] - 0s 5ms/step - loss: 58.8397 - mae: 58.8397 - mse: 3497.2017 - val_loss: 58.1217 - val_mae: 58.1217 - val_mse: 3415.7366\n",
            "Epoch 175/300\n",
            "6/6 [==============================] - 0s 6ms/step - loss: 58.8259 - mae: 58.8259 - mse: 3495.5825 - val_loss: 58.1084 - val_mae: 58.1084 - val_mse: 3414.2000\n",
            "Epoch 176/300\n",
            "6/6 [==============================] - 0s 5ms/step - loss: 58.8118 - mae: 58.8118 - mse: 3493.9268 - val_loss: 58.0952 - val_mae: 58.0952 - val_mse: 3412.6699\n",
            "Epoch 177/300\n",
            "6/6 [==============================] - 0s 6ms/step - loss: 58.7979 - mae: 58.7979 - mse: 3492.3096 - val_loss: 58.0820 - val_mae: 58.0820 - val_mse: 3411.1379\n",
            "Epoch 178/300\n",
            "6/6 [==============================] - 0s 5ms/step - loss: 58.7840 - mae: 58.7840 - mse: 3490.6753 - val_loss: 58.0688 - val_mae: 58.0688 - val_mse: 3409.6094\n",
            "Epoch 179/300\n",
            "6/6 [==============================] - 0s 4ms/step - loss: 58.7701 - mae: 58.7701 - mse: 3489.0527 - val_loss: 58.0555 - val_mae: 58.0555 - val_mse: 3408.0771\n",
            "Epoch 180/300\n",
            "6/6 [==============================] - 0s 5ms/step - loss: 58.7561 - mae: 58.7561 - mse: 3487.4128 - val_loss: 58.0423 - val_mae: 58.0423 - val_mse: 3406.5481\n",
            "Epoch 181/300\n",
            "6/6 [==============================] - 0s 5ms/step - loss: 58.7423 - mae: 58.7423 - mse: 3485.7900 - val_loss: 58.0290 - val_mae: 58.0290 - val_mse: 3405.0120\n",
            "Epoch 182/300\n",
            "6/6 [==============================] - 0s 4ms/step - loss: 58.7282 - mae: 58.7282 - mse: 3484.1570 - val_loss: 58.0158 - val_mae: 58.0158 - val_mse: 3403.4836\n",
            "Epoch 183/300\n",
            "6/6 [==============================] - 0s 5ms/step - loss: 58.7143 - mae: 58.7143 - mse: 3482.5176 - val_loss: 58.0026 - val_mae: 58.0026 - val_mse: 3401.9568\n",
            "Epoch 184/300\n",
            "6/6 [==============================] - 0s 5ms/step - loss: 58.7005 - mae: 58.7005 - mse: 3480.9233 - val_loss: 57.9893 - val_mae: 57.9893 - val_mse: 3400.4187\n",
            "Epoch 185/300\n",
            "6/6 [==============================] - 0s 5ms/step - loss: 58.6864 - mae: 58.6864 - mse: 3479.2612 - val_loss: 57.9761 - val_mae: 57.9761 - val_mse: 3398.8955\n",
            "Epoch 186/300\n",
            "6/6 [==============================] - 0s 7ms/step - loss: 58.6724 - mae: 58.6724 - mse: 3477.6465 - val_loss: 57.9629 - val_mae: 57.9629 - val_mse: 3397.3718\n",
            "Epoch 187/300\n",
            "6/6 [==============================] - 0s 6ms/step - loss: 58.6586 - mae: 58.6586 - mse: 3476.0249 - val_loss: 57.9496 - val_mae: 57.9496 - val_mse: 3395.8411\n",
            "Epoch 188/300\n",
            "6/6 [==============================] - 0s 6ms/step - loss: 58.6447 - mae: 58.6447 - mse: 3474.3987 - val_loss: 57.9363 - val_mae: 57.9363 - val_mse: 3394.3093\n",
            "Epoch 189/300\n",
            "6/6 [==============================] - 0s 6ms/step - loss: 58.6307 - mae: 58.6307 - mse: 3472.7683 - val_loss: 57.9231 - val_mae: 57.9231 - val_mse: 3392.7822\n",
            "Epoch 190/300\n",
            "6/6 [==============================] - 0s 5ms/step - loss: 58.6167 - mae: 58.6167 - mse: 3471.1328 - val_loss: 57.9099 - val_mae: 57.9099 - val_mse: 3391.2585\n",
            "Epoch 191/300\n",
            "6/6 [==============================] - 0s 9ms/step - loss: 58.6029 - mae: 58.6029 - mse: 3469.5225 - val_loss: 57.8966 - val_mae: 57.8966 - val_mse: 3389.7292\n",
            "Epoch 192/300\n",
            "6/6 [==============================] - 0s 6ms/step - loss: 58.5889 - mae: 58.5889 - mse: 3467.8867 - val_loss: 57.8834 - val_mae: 57.8834 - val_mse: 3388.2009\n",
            "Epoch 193/300\n",
            "6/6 [==============================] - 0s 6ms/step - loss: 58.5750 - mae: 58.5750 - mse: 3466.2542 - val_loss: 57.8702 - val_mae: 57.8702 - val_mse: 3386.6765\n",
            "Epoch 194/300\n",
            "6/6 [==============================] - 0s 6ms/step - loss: 58.5611 - mae: 58.5611 - mse: 3464.6479 - val_loss: 57.8569 - val_mae: 57.8569 - val_mse: 3385.1472\n",
            "Epoch 195/300\n",
            "6/6 [==============================] - 0s 6ms/step - loss: 58.5471 - mae: 58.5471 - mse: 3463.0093 - val_loss: 57.8437 - val_mae: 57.8437 - val_mse: 3383.6223\n",
            "Epoch 196/300\n",
            "6/6 [==============================] - 0s 7ms/step - loss: 58.5331 - mae: 58.5331 - mse: 3461.3887 - val_loss: 57.8304 - val_mae: 57.8304 - val_mse: 3382.0986\n",
            "Epoch 197/300\n",
            "6/6 [==============================] - 0s 7ms/step - loss: 58.5192 - mae: 58.5192 - mse: 3459.7673 - val_loss: 57.8172 - val_mae: 57.8172 - val_mse: 3380.5745\n",
            "Epoch 198/300\n",
            "6/6 [==============================] - 0s 6ms/step - loss: 58.5053 - mae: 58.5053 - mse: 3458.1431 - val_loss: 57.8039 - val_mae: 57.8039 - val_mse: 3379.0471\n",
            "Epoch 199/300\n",
            "6/6 [==============================] - 0s 5ms/step - loss: 58.4914 - mae: 58.4914 - mse: 3456.5195 - val_loss: 57.7907 - val_mae: 57.7907 - val_mse: 3377.5227\n",
            "Epoch 200/300\n",
            "6/6 [==============================] - 0s 6ms/step - loss: 58.4774 - mae: 58.4774 - mse: 3454.9009 - val_loss: 57.7775 - val_mae: 57.7775 - val_mse: 3376.0022\n",
            "Epoch 201/300\n",
            "6/6 [==============================] - 0s 6ms/step - loss: 58.4634 - mae: 58.4634 - mse: 3453.2712 - val_loss: 57.7643 - val_mae: 57.7643 - val_mse: 3374.4844\n",
            "Epoch 202/300\n",
            "6/6 [==============================] - 0s 6ms/step - loss: 58.4497 - mae: 58.4497 - mse: 3451.6675 - val_loss: 57.7510 - val_mae: 57.7510 - val_mse: 3372.9531\n",
            "Epoch 203/300\n",
            "6/6 [==============================] - 0s 4ms/step - loss: 58.4356 - mae: 58.4356 - mse: 3450.0325 - val_loss: 57.7378 - val_mae: 57.7378 - val_mse: 3371.4324\n",
            "Epoch 204/300\n",
            "6/6 [==============================] - 0s 5ms/step - loss: 58.4217 - mae: 58.4217 - mse: 3448.4180 - val_loss: 57.7245 - val_mae: 57.7245 - val_mse: 3369.9102\n",
            "Epoch 205/300\n",
            "6/6 [==============================] - 0s 5ms/step - loss: 58.4078 - mae: 58.4078 - mse: 3446.7949 - val_loss: 57.7113 - val_mae: 57.7113 - val_mse: 3368.3877\n",
            "Epoch 206/300\n",
            "6/6 [==============================] - 0s 4ms/step - loss: 58.3938 - mae: 58.3938 - mse: 3445.1709 - val_loss: 57.6980 - val_mae: 57.6980 - val_mse: 3366.8672\n",
            "Epoch 207/300\n",
            "6/6 [==============================] - 0s 6ms/step - loss: 58.3799 - mae: 58.3799 - mse: 3443.5637 - val_loss: 57.6848 - val_mae: 57.6848 - val_mse: 3365.3438\n",
            "Epoch 208/300\n",
            "6/6 [==============================] - 0s 6ms/step - loss: 58.3659 - mae: 58.3659 - mse: 3441.9287 - val_loss: 57.6716 - val_mae: 57.6716 - val_mse: 3363.8254\n",
            "Epoch 209/300\n",
            "6/6 [==============================] - 0s 5ms/step - loss: 58.3520 - mae: 58.3520 - mse: 3440.3193 - val_loss: 57.6583 - val_mae: 57.6583 - val_mse: 3362.3054\n",
            "Epoch 210/300\n",
            "6/6 [==============================] - 0s 5ms/step - loss: 58.3381 - mae: 58.3381 - mse: 3438.7007 - val_loss: 57.6451 - val_mae: 57.6451 - val_mse: 3360.7839\n",
            "Epoch 211/300\n",
            "6/6 [==============================] - 0s 6ms/step - loss: 58.3242 - mae: 58.3242 - mse: 3437.0903 - val_loss: 57.6318 - val_mae: 57.6318 - val_mse: 3359.2625\n",
            "Epoch 212/300\n",
            "6/6 [==============================] - 0s 6ms/step - loss: 58.3102 - mae: 58.3102 - mse: 3435.4758 - val_loss: 57.6186 - val_mae: 57.6186 - val_mse: 3357.7424\n",
            "Epoch 213/300\n",
            "6/6 [==============================] - 0s 5ms/step - loss: 58.2963 - mae: 58.2963 - mse: 3433.8579 - val_loss: 57.6053 - val_mae: 57.6053 - val_mse: 3356.2205\n",
            "Epoch 214/300\n",
            "6/6 [==============================] - 0s 5ms/step - loss: 58.2823 - mae: 58.2823 - mse: 3432.2305 - val_loss: 57.5921 - val_mae: 57.5921 - val_mse: 3354.7073\n",
            "Epoch 215/300\n",
            "6/6 [==============================] - 0s 6ms/step - loss: 58.2683 - mae: 58.2683 - mse: 3430.6145 - val_loss: 57.5789 - val_mae: 57.5789 - val_mse: 3353.1936\n",
            "Epoch 216/300\n",
            "6/6 [==============================] - 0s 5ms/step - loss: 58.2545 - mae: 58.2545 - mse: 3429.0032 - val_loss: 57.5657 - val_mae: 57.5657 - val_mse: 3351.6738\n",
            "Epoch 217/300\n",
            "6/6 [==============================] - 0s 5ms/step - loss: 58.2406 - mae: 58.2406 - mse: 3427.3965 - val_loss: 57.5524 - val_mae: 57.5524 - val_mse: 3350.1545\n",
            "Epoch 218/300\n",
            "6/6 [==============================] - 0s 5ms/step - loss: 58.2265 - mae: 58.2265 - mse: 3425.7715 - val_loss: 57.5392 - val_mae: 57.5392 - val_mse: 3348.6414\n",
            "Epoch 219/300\n",
            "6/6 [==============================] - 0s 5ms/step - loss: 58.2126 - mae: 58.2126 - mse: 3424.1636 - val_loss: 57.5260 - val_mae: 57.5260 - val_mse: 3347.1262\n",
            "Epoch 220/300\n",
            "6/6 [==============================] - 0s 6ms/step - loss: 58.1988 - mae: 58.1988 - mse: 3422.5588 - val_loss: 57.5127 - val_mae: 57.5127 - val_mse: 3345.6045\n",
            "Epoch 221/300\n",
            "6/6 [==============================] - 0s 5ms/step - loss: 58.1847 - mae: 58.1847 - mse: 3420.9229 - val_loss: 57.4995 - val_mae: 57.4995 - val_mse: 3344.0957\n",
            "Epoch 222/300\n",
            "6/6 [==============================] - 0s 7ms/step - loss: 58.1709 - mae: 58.1709 - mse: 3419.3250 - val_loss: 57.4863 - val_mae: 57.4863 - val_mse: 3342.5793\n",
            "Epoch 223/300\n",
            "6/6 [==============================] - 0s 5ms/step - loss: 58.1569 - mae: 58.1569 - mse: 3417.7070 - val_loss: 57.4731 - val_mae: 57.4731 - val_mse: 3341.0676\n",
            "Epoch 224/300\n",
            "6/6 [==============================] - 0s 5ms/step - loss: 58.1431 - mae: 58.1431 - mse: 3416.1060 - val_loss: 57.4598 - val_mae: 57.4598 - val_mse: 3339.5488\n",
            "Epoch 225/300\n",
            "6/6 [==============================] - 0s 9ms/step - loss: 58.1291 - mae: 58.1291 - mse: 3414.4912 - val_loss: 57.4465 - val_mae: 57.4465 - val_mse: 3338.0320\n",
            "Epoch 226/300\n",
            "6/6 [==============================] - 0s 6ms/step - loss: 58.1151 - mae: 58.1151 - mse: 3412.8743 - val_loss: 57.4333 - val_mae: 57.4333 - val_mse: 3336.5168\n",
            "Epoch 227/300\n",
            "6/6 [==============================] - 0s 5ms/step - loss: 58.1012 - mae: 58.1012 - mse: 3411.2625 - val_loss: 57.4200 - val_mae: 57.4200 - val_mse: 3335.0020\n",
            "Epoch 228/300\n",
            "6/6 [==============================] - 0s 5ms/step - loss: 58.0873 - mae: 58.0873 - mse: 3409.6545 - val_loss: 57.4068 - val_mae: 57.4068 - val_mse: 3333.4883\n",
            "Epoch 229/300\n",
            "6/6 [==============================] - 0s 5ms/step - loss: 58.0733 - mae: 58.0733 - mse: 3408.0442 - val_loss: 57.3936 - val_mae: 57.3936 - val_mse: 3331.9758\n",
            "Epoch 230/300\n",
            "6/6 [==============================] - 0s 5ms/step - loss: 58.0594 - mae: 58.0594 - mse: 3406.4292 - val_loss: 57.3803 - val_mae: 57.3803 - val_mse: 3330.4651\n",
            "Epoch 231/300\n",
            "6/6 [==============================] - 0s 5ms/step - loss: 58.0455 - mae: 58.0455 - mse: 3404.8279 - val_loss: 57.3671 - val_mae: 57.3671 - val_mse: 3328.9490\n",
            "Epoch 232/300\n",
            "6/6 [==============================] - 0s 5ms/step - loss: 58.0315 - mae: 58.0315 - mse: 3403.2141 - val_loss: 57.3538 - val_mae: 57.3538 - val_mse: 3327.4355\n",
            "Epoch 233/300\n",
            "6/6 [==============================] - 0s 5ms/step - loss: 58.0176 - mae: 58.0176 - mse: 3401.6069 - val_loss: 57.3406 - val_mae: 57.3406 - val_mse: 3325.9236\n",
            "Epoch 234/300\n",
            "6/6 [==============================] - 0s 6ms/step - loss: 58.0036 - mae: 58.0036 - mse: 3399.9934 - val_loss: 57.3274 - val_mae: 57.3274 - val_mse: 3324.4160\n",
            "Epoch 235/300\n",
            "6/6 [==============================] - 0s 5ms/step - loss: 57.9897 - mae: 57.9897 - mse: 3398.3892 - val_loss: 57.3141 - val_mae: 57.3141 - val_mse: 3322.9053\n",
            "Epoch 236/300\n",
            "6/6 [==============================] - 0s 5ms/step - loss: 57.9758 - mae: 57.9758 - mse: 3396.7808 - val_loss: 57.3009 - val_mae: 57.3009 - val_mse: 3321.3945\n",
            "Epoch 237/300\n",
            "6/6 [==============================] - 0s 5ms/step - loss: 57.9619 - mae: 57.9619 - mse: 3395.1814 - val_loss: 57.2877 - val_mae: 57.2877 - val_mse: 3319.8840\n",
            "Epoch 238/300\n",
            "6/6 [==============================] - 0s 5ms/step - loss: 57.9479 - mae: 57.9479 - mse: 3393.5703 - val_loss: 57.2744 - val_mae: 57.2744 - val_mse: 3318.3748\n",
            "Epoch 239/300\n",
            "6/6 [==============================] - 0s 5ms/step - loss: 57.9340 - mae: 57.9340 - mse: 3391.9673 - val_loss: 57.2612 - val_mae: 57.2612 - val_mse: 3316.8621\n",
            "Epoch 240/300\n",
            "6/6 [==============================] - 0s 5ms/step - loss: 57.9200 - mae: 57.9200 - mse: 3390.3513 - val_loss: 57.2479 - val_mae: 57.2479 - val_mse: 3315.3555\n",
            "Epoch 241/300\n",
            "6/6 [==============================] - 0s 5ms/step - loss: 57.9060 - mae: 57.9060 - mse: 3388.7454 - val_loss: 57.2348 - val_mae: 57.2348 - val_mse: 3313.8523\n",
            "Epoch 242/300\n",
            "6/6 [==============================] - 0s 5ms/step - loss: 57.8923 - mae: 57.8923 - mse: 3387.1526 - val_loss: 57.2215 - val_mae: 57.2215 - val_mse: 3312.3376\n",
            "Epoch 243/300\n",
            "6/6 [==============================] - 0s 6ms/step - loss: 57.8782 - mae: 57.8782 - mse: 3385.5347 - val_loss: 57.2082 - val_mae: 57.2082 - val_mse: 3310.8320\n",
            "Epoch 244/300\n",
            "6/6 [==============================] - 0s 5ms/step - loss: 57.8643 - mae: 57.8643 - mse: 3383.9382 - val_loss: 57.1950 - val_mae: 57.1950 - val_mse: 3309.3242\n",
            "Epoch 245/300\n",
            "6/6 [==============================] - 0s 7ms/step - loss: 57.8504 - mae: 57.8504 - mse: 3382.3335 - val_loss: 57.1817 - val_mae: 57.1817 - val_mse: 3307.8145\n",
            "Epoch 246/300\n",
            "6/6 [==============================] - 0s 5ms/step - loss: 57.8365 - mae: 57.8365 - mse: 3380.7310 - val_loss: 57.1685 - val_mae: 57.1685 - val_mse: 3306.3054\n",
            "Epoch 247/300\n",
            "6/6 [==============================] - 0s 5ms/step - loss: 57.8225 - mae: 57.8225 - mse: 3379.1277 - val_loss: 57.1553 - val_mae: 57.1553 - val_mse: 3304.8010\n",
            "Epoch 248/300\n",
            "6/6 [==============================] - 0s 5ms/step - loss: 57.8085 - mae: 57.8085 - mse: 3377.5220 - val_loss: 57.1420 - val_mae: 57.1420 - val_mse: 3303.2969\n",
            "Epoch 249/300\n",
            "6/6 [==============================] - 0s 6ms/step - loss: 57.7946 - mae: 57.7946 - mse: 3375.9153 - val_loss: 57.1288 - val_mae: 57.1288 - val_mse: 3301.7910\n",
            "Epoch 250/300\n",
            "6/6 [==============================] - 0s 5ms/step - loss: 57.7807 - mae: 57.7807 - mse: 3374.3186 - val_loss: 57.1156 - val_mae: 57.1156 - val_mse: 3300.2852\n",
            "Epoch 251/300\n",
            "6/6 [==============================] - 0s 6ms/step - loss: 57.7668 - mae: 57.7668 - mse: 3372.7190 - val_loss: 57.1023 - val_mae: 57.1023 - val_mse: 3298.7805\n",
            "Epoch 252/300\n",
            "6/6 [==============================] - 0s 5ms/step - loss: 57.7529 - mae: 57.7529 - mse: 3371.1201 - val_loss: 57.0891 - val_mae: 57.0891 - val_mse: 3297.2744\n",
            "Epoch 253/300\n",
            "6/6 [==============================] - 0s 5ms/step - loss: 57.7388 - mae: 57.7388 - mse: 3369.5112 - val_loss: 57.0759 - val_mae: 57.0759 - val_mse: 3295.7754\n",
            "Epoch 254/300\n",
            "6/6 [==============================] - 0s 7ms/step - loss: 57.7250 - mae: 57.7250 - mse: 3367.9224 - val_loss: 57.0626 - val_mae: 57.0626 - val_mse: 3294.2693\n",
            "Epoch 255/300\n",
            "6/6 [==============================] - 0s 5ms/step - loss: 57.7110 - mae: 57.7110 - mse: 3366.3228 - val_loss: 57.0494 - val_mae: 57.0494 - val_mse: 3292.7666\n",
            "Epoch 256/300\n",
            "6/6 [==============================] - 0s 5ms/step - loss: 57.6972 - mae: 57.6972 - mse: 3364.7253 - val_loss: 57.0361 - val_mae: 57.0361 - val_mse: 3291.2595\n",
            "Epoch 257/300\n",
            "6/6 [==============================] - 0s 5ms/step - loss: 57.6831 - mae: 57.6831 - mse: 3363.1204 - val_loss: 57.0229 - val_mae: 57.0229 - val_mse: 3289.7588\n",
            "Epoch 258/300\n",
            "6/6 [==============================] - 0s 6ms/step - loss: 57.6692 - mae: 57.6692 - mse: 3361.5222 - val_loss: 57.0097 - val_mae: 57.0097 - val_mse: 3288.2578\n",
            "Epoch 259/300\n",
            "6/6 [==============================] - 0s 5ms/step - loss: 57.6553 - mae: 57.6553 - mse: 3359.9248 - val_loss: 56.9964 - val_mae: 56.9964 - val_mse: 3286.7539\n",
            "Epoch 260/300\n",
            "6/6 [==============================] - 0s 6ms/step - loss: 57.6414 - mae: 57.6414 - mse: 3358.3279 - val_loss: 56.9832 - val_mae: 56.9832 - val_mse: 3285.2512\n",
            "Epoch 261/300\n",
            "6/6 [==============================] - 0s 6ms/step - loss: 57.6274 - mae: 57.6274 - mse: 3356.7219 - val_loss: 56.9700 - val_mae: 56.9700 - val_mse: 3283.7537\n",
            "Epoch 262/300\n",
            "6/6 [==============================] - 0s 6ms/step - loss: 57.6135 - mae: 57.6135 - mse: 3355.1326 - val_loss: 56.9567 - val_mae: 56.9567 - val_mse: 3282.2488\n",
            "Epoch 263/300\n",
            "6/6 [==============================] - 0s 5ms/step - loss: 57.5995 - mae: 57.5995 - mse: 3353.5356 - val_loss: 56.9435 - val_mae: 56.9435 - val_mse: 3280.7493\n",
            "Epoch 264/300\n",
            "6/6 [==============================] - 0s 5ms/step - loss: 57.5857 - mae: 57.5857 - mse: 3351.9458 - val_loss: 56.9302 - val_mae: 56.9302 - val_mse: 3279.2444\n",
            "Epoch 265/300\n",
            "6/6 [==============================] - 0s 5ms/step - loss: 57.5716 - mae: 57.5716 - mse: 3350.3354 - val_loss: 56.9170 - val_mae: 56.9170 - val_mse: 3277.7478\n",
            "Epoch 266/300\n",
            "6/6 [==============================] - 0s 5ms/step - loss: 57.5577 - mae: 57.5577 - mse: 3348.7373 - val_loss: 56.9038 - val_mae: 56.9038 - val_mse: 3276.2529\n",
            "Epoch 267/300\n",
            "6/6 [==============================] - 0s 5ms/step - loss: 57.5438 - mae: 57.5438 - mse: 3347.1575 - val_loss: 56.8906 - val_mae: 56.8906 - val_mse: 3274.7522\n",
            "Epoch 268/300\n",
            "6/6 [==============================] - 0s 5ms/step - loss: 57.5299 - mae: 57.5299 - mse: 3345.5637 - val_loss: 56.8773 - val_mae: 56.8773 - val_mse: 3273.2510\n",
            "Epoch 269/300\n",
            "6/6 [==============================] - 0s 5ms/step - loss: 57.5160 - mae: 57.5160 - mse: 3343.9666 - val_loss: 56.8640 - val_mae: 56.8640 - val_mse: 3271.7512\n",
            "Epoch 270/300\n",
            "6/6 [==============================] - 0s 7ms/step - loss: 57.5021 - mae: 57.5021 - mse: 3342.3818 - val_loss: 56.8508 - val_mae: 56.8508 - val_mse: 3270.2490\n",
            "Epoch 271/300\n",
            "6/6 [==============================] - 0s 5ms/step - loss: 57.4881 - mae: 57.4881 - mse: 3340.7808 - val_loss: 56.8375 - val_mae: 56.8375 - val_mse: 3268.7500\n",
            "Epoch 272/300\n",
            "6/6 [==============================] - 0s 6ms/step - loss: 57.4741 - mae: 57.4741 - mse: 3339.1753 - val_loss: 56.8243 - val_mae: 56.8243 - val_mse: 3267.2568\n",
            "Epoch 273/300\n",
            "6/6 [==============================] - 0s 8ms/step - loss: 57.4602 - mae: 57.4602 - mse: 3337.5820 - val_loss: 56.8111 - val_mae: 56.8111 - val_mse: 3265.7625\n",
            "Epoch 274/300\n",
            "6/6 [==============================] - 0s 5ms/step - loss: 57.4462 - mae: 57.4462 - mse: 3335.9917 - val_loss: 56.7979 - val_mae: 56.7979 - val_mse: 3264.2693\n",
            "Epoch 275/300\n",
            "6/6 [==============================] - 0s 7ms/step - loss: 57.4324 - mae: 57.4324 - mse: 3334.4172 - val_loss: 56.7846 - val_mae: 56.7846 - val_mse: 3262.7688\n",
            "Epoch 276/300\n",
            "6/6 [==============================] - 0s 5ms/step - loss: 57.4184 - mae: 57.4184 - mse: 3332.8132 - val_loss: 56.7714 - val_mae: 56.7714 - val_mse: 3261.2722\n",
            "Epoch 277/300\n",
            "6/6 [==============================] - 0s 5ms/step - loss: 57.4044 - mae: 57.4044 - mse: 3331.2305 - val_loss: 56.7582 - val_mae: 56.7582 - val_mse: 3259.7773\n",
            "Epoch 278/300\n",
            "6/6 [==============================] - 0s 6ms/step - loss: 57.3905 - mae: 57.3905 - mse: 3329.6357 - val_loss: 56.7449 - val_mae: 56.7449 - val_mse: 3258.2812\n",
            "Epoch 279/300\n",
            "6/6 [==============================] - 0s 5ms/step - loss: 57.3766 - mae: 57.3766 - mse: 3328.0471 - val_loss: 56.7317 - val_mae: 56.7317 - val_mse: 3256.7852\n",
            "Epoch 280/300\n",
            "6/6 [==============================] - 0s 6ms/step - loss: 57.3626 - mae: 57.3626 - mse: 3326.4529 - val_loss: 56.7184 - val_mae: 56.7184 - val_mse: 3255.2930\n",
            "Epoch 281/300\n",
            "6/6 [==============================] - 0s 6ms/step - loss: 57.3488 - mae: 57.3488 - mse: 3324.8708 - val_loss: 56.7052 - val_mae: 56.7052 - val_mse: 3253.7942\n",
            "Epoch 282/300\n",
            "6/6 [==============================] - 0s 8ms/step - loss: 57.3347 - mae: 57.3347 - mse: 3323.2739 - val_loss: 56.6919 - val_mae: 56.6919 - val_mse: 3252.3027\n",
            "Epoch 283/300\n",
            "6/6 [==============================] - 0s 6ms/step - loss: 57.3208 - mae: 57.3208 - mse: 3321.6865 - val_loss: 56.6787 - val_mae: 56.6787 - val_mse: 3250.8108\n",
            "Epoch 284/300\n",
            "6/6 [==============================] - 0s 5ms/step - loss: 57.3069 - mae: 57.3069 - mse: 3320.1030 - val_loss: 56.6655 - val_mae: 56.6655 - val_mse: 3249.3164\n",
            "Epoch 285/300\n",
            "6/6 [==============================] - 0s 5ms/step - loss: 57.2930 - mae: 57.2930 - mse: 3318.5173 - val_loss: 56.6522 - val_mae: 56.6522 - val_mse: 3247.8184\n",
            "Epoch 286/300\n",
            "6/6 [==============================] - 0s 5ms/step - loss: 57.2790 - mae: 57.2790 - mse: 3316.9270 - val_loss: 56.6390 - val_mae: 56.6390 - val_mse: 3246.3271\n",
            "Epoch 287/300\n",
            "6/6 [==============================] - 0s 6ms/step - loss: 57.2650 - mae: 57.2650 - mse: 3315.3328 - val_loss: 56.6258 - val_mae: 56.6258 - val_mse: 3244.8391\n",
            "Epoch 288/300\n",
            "6/6 [==============================] - 0s 5ms/step - loss: 57.2512 - mae: 57.2512 - mse: 3313.7598 - val_loss: 56.6125 - val_mae: 56.6125 - val_mse: 3243.3464\n",
            "Epoch 289/300\n",
            "6/6 [==============================] - 0s 6ms/step - loss: 57.2372 - mae: 57.2372 - mse: 3312.1653 - val_loss: 56.5993 - val_mae: 56.5993 - val_mse: 3241.8535\n",
            "Epoch 290/300\n",
            "6/6 [==============================] - 0s 5ms/step - loss: 57.2233 - mae: 57.2233 - mse: 3310.5776 - val_loss: 56.5860 - val_mae: 56.5860 - val_mse: 3240.3606\n",
            "Epoch 291/300\n",
            "6/6 [==============================] - 0s 6ms/step - loss: 57.2093 - mae: 57.2093 - mse: 3308.9924 - val_loss: 56.5728 - val_mae: 56.5728 - val_mse: 3238.8708\n",
            "Epoch 292/300\n",
            "6/6 [==============================] - 0s 5ms/step - loss: 57.1954 - mae: 57.1954 - mse: 3307.4097 - val_loss: 56.5595 - val_mae: 56.5595 - val_mse: 3237.3809\n",
            "Epoch 293/300\n",
            "6/6 [==============================] - 0s 7ms/step - loss: 57.1815 - mae: 57.1815 - mse: 3305.8318 - val_loss: 56.5463 - val_mae: 56.5463 - val_mse: 3235.8889\n",
            "Epoch 294/300\n",
            "6/6 [==============================] - 0s 5ms/step - loss: 57.1675 - mae: 57.1675 - mse: 3304.2388 - val_loss: 56.5331 - val_mae: 56.5331 - val_mse: 3234.4016\n",
            "Epoch 295/300\n",
            "6/6 [==============================] - 0s 5ms/step - loss: 57.1536 - mae: 57.1536 - mse: 3302.6497 - val_loss: 56.5198 - val_mae: 56.5198 - val_mse: 3232.9131\n",
            "Epoch 296/300\n",
            "6/6 [==============================] - 0s 6ms/step - loss: 57.1396 - mae: 57.1396 - mse: 3301.0740 - val_loss: 56.5066 - val_mae: 56.5066 - val_mse: 3231.4270\n",
            "Epoch 297/300\n",
            "6/6 [==============================] - 0s 5ms/step - loss: 57.1258 - mae: 57.1258 - mse: 3299.4954 - val_loss: 56.4933 - val_mae: 56.4933 - val_mse: 3229.9355\n",
            "Epoch 298/300\n",
            "6/6 [==============================] - 0s 5ms/step - loss: 57.1118 - mae: 57.1118 - mse: 3297.9128 - val_loss: 56.4801 - val_mae: 56.4801 - val_mse: 3228.4475\n",
            "Epoch 299/300\n",
            "6/6 [==============================] - 0s 6ms/step - loss: 57.0979 - mae: 57.0979 - mse: 3296.3340 - val_loss: 56.4669 - val_mae: 56.4669 - val_mse: 3226.9602\n",
            "Epoch 300/300\n",
            "6/6 [==============================] - 0s 5ms/step - loss: 57.0839 - mae: 57.0839 - mse: 3294.7454 - val_loss: 56.4536 - val_mae: 56.4536 - val_mse: 3225.4734\n"
          ],
          "name": "stdout"
        }
      ]
    },
    {
      "cell_type": "code",
      "metadata": {
        "id": "6zYkLGS6wQyy",
        "colab": {
          "base_uri": "https://localhost:8080/"
        },
        "outputId": "774412ba-d0f8-4409-ce87-e02793535411"
      },
      "source": [
        "print(history)"
      ],
      "execution_count": 77,
      "outputs": [
        {
          "output_type": "stream",
          "text": [
            "<tensorflow.python.keras.callbacks.History object at 0x7f9a4867d190>\n"
          ],
          "name": "stdout"
        }
      ]
    },
    {
      "cell_type": "code",
      "metadata": {
        "colab": {
          "base_uri": "https://localhost:8080/"
        },
        "id": "1lsbk_ohAu1j",
        "outputId": "76d97a03-ea78-482f-ad66-4a2f2da085ae"
      },
      "source": [
        "model.summary()"
      ],
      "execution_count": 78,
      "outputs": [
        {
          "output_type": "stream",
          "text": [
            "Model: \"sequential\"\n",
            "_________________________________________________________________\n",
            "Layer (type)                 Output Shape              Param #   \n",
            "=================================================================\n",
            "dense (Dense)                (None, 1)                 2         \n",
            "=================================================================\n",
            "Total params: 2\n",
            "Trainable params: 2\n",
            "Non-trainable params: 0\n",
            "_________________________________________________________________\n"
          ],
          "name": "stdout"
        }
      ]
    },
    {
      "cell_type": "code",
      "metadata": {
        "colab": {
          "base_uri": "https://localhost:8080/",
          "height": 1000
        },
        "id": "P6VnkPim7tH7",
        "outputId": "8d9641b5-f215-42f5-c281-5657905153a5"
      },
      "source": [
        "# tempString = 'mse'\n",
        "def curvePlots(tempString):\n",
        "  plt.plot(history.history[tempString])\n",
        "  plt.plot(history.history[f'val_{tempString}'])\n",
        "  plt.xlabel('NumEpochs')\n",
        "  plt.ylabel(tempString)\n",
        "  plt.legend([tempString, f'val_{tempString}'])\n",
        "  plt.show()\n",
        "\n",
        "\n",
        "curvePlots('mse')\n",
        "curvePlots('mae')\n",
        "curvePlots('loss')"
      ],
      "execution_count": 79,
      "outputs": [
        {
          "output_type": "display_data",
          "data": {
            "image/png": "[encoded data removed]",
            "text/plain": [
              "<Figure size 576x396 with 1 Axes>"
            ]
          },
          "metadata": {
            "tags": []
          }
        },
        {
          "output_type": "display_data",
          "data": {
            "image/png": "[encoded data removed]",
            "text/plain": [
              "<Figure size 576x396 with 1 Axes>"
            ]
          },
          "metadata": {
            "tags": []
          }
        },
        {
          "output_type": "display_data",
          "data": {
            "image/png": "[encoded data removed]",
            "text/plain": [
              "<Figure size 576x396 with 1 Axes>"
            ]
          },
          "metadata": {
            "tags": []
          }
        }
      ]
    },
    {
      "cell_type": "code",
      "metadata": {
        "id": "esW0eHQbzoj4",
        "colab": {
          "base_uri": "https://localhost:8080/"
        },
        "outputId": "316295da-81a6-40d3-f9dd-d4da3a9aff38"
      },
      "source": [
        "model.predict([1])"
      ],
      "execution_count": 80,
      "outputs": [
        {
          "output_type": "execute_result",
          "data": {
            "text/plain": [
              "array([[4.4469895]], dtype=float32)"
            ]
          },
          "metadata": {
            "tags": []
          },
          "execution_count": 80
        }
      ]
    },
    {
      "cell_type": "code",
      "metadata": {
        "colab": {
          "base_uri": "https://localhost:8080/"
        },
        "id": "KJrLWamX8Tg-",
        "outputId": "c3616e44-027a-4fec-87d9-6427bb9e3017"
      },
      "source": [
        "# testPreds = model.predict(testFeatures).flatten() #array of all prediction values\n",
        "\n",
        "#for single values\n",
        "\n",
        "print(f'Prediction for input value 1: {model.predict([1])}')\n",
        "\n",
        "\n",
        "# for a list of values\n",
        "tempListforPreds = [1,2,3,4,5]\n",
        "print(f'''\n",
        "\n",
        "input List = {tempListforPreds}\n",
        "\n",
        "\n",
        "List of Predictions:\n",
        "{model.predict(tempListforPreds)}\n",
        "\n",
        "List of Predictions (flattened out):\n",
        "{model.predict(tempListforPreds).flatten()}\n",
        "''')"
      ],
      "execution_count": 83,
      "outputs": [
        {
          "output_type": "stream",
          "text": [
            "Prediction for input value 1: [[4.4469895]]\n",
            "\n",
            "\n",
            "input List = [1, 2, 3, 4, 5]\n",
            "\n",
            "\n",
            "List of Predictions:\n",
            "[[ 4.4469895]\n",
            " [ 7.0939507]\n",
            " [ 9.740912 ]\n",
            " [12.387874 ]\n",
            " [15.034835 ]]\n",
            "\n",
            "List of Predictions (flattened out):\n",
            "[ 4.4469895  7.0939507  9.740912  12.387874  15.034835 ]\n",
            "\n"
          ],
          "name": "stdout"
        }
      ]
    },
    {
      "cell_type": "code",
      "metadata": {
        "id": "vJNFh6hc0K6r",
        "colab": {
          "base_uri": "https://localhost:8080/"
        },
        "outputId": "2fbe41e3-8654-440b-baaa-59848e0e366a"
      },
      "source": [
        "print(testFeatures)"
      ],
      "execution_count": 84,
      "outputs": [
        {
          "output_type": "stream",
          "text": [
            "     status\n",
            "9         2\n",
            "21        1\n",
            "25        2\n",
            "36        2\n",
            "39        1\n",
            "47        1\n",
            "58        1\n",
            "67        1\n",
            "70        1\n",
            "77        1\n",
            "81        1\n",
            "87        2\n",
            "88        1\n",
            "103       1\n",
            "117       1\n",
            "140       1\n",
            "165       2\n",
            "172       1\n",
            "174       1\n",
            "192       1\n",
            "193       1\n",
            "195       1\n",
            "202       1\n",
            "204       1\n"
          ],
          "name": "stdout"
        }
      ]
    },
    {
      "cell_type": "code",
      "metadata": {
        "id": "MniGZOu50IyN"
      },
      "source": [
        "testPreds = model.predict(testFeatures).flatten() #array of all prediction values"
      ],
      "execution_count": 85,
      "outputs": []
    },
    {
      "cell_type": "code",
      "metadata": {
        "id": "du0Orwu40Qan",
        "colab": {
          "base_uri": "https://localhost:8080/"
        },
        "outputId": "0c42835b-72ab-44ae-9a12-2ff3696dab09"
      },
      "source": [
        "print(len(testPreds))\n",
        "print(testPreds)"
      ],
      "execution_count": 86,
      "outputs": [
        {
          "output_type": "stream",
          "text": [
            "24\n",
            "[7.0939507 4.4469895 7.0939507 7.0939507 4.4469895 4.4469895 4.4469895\n",
            " 4.4469895 4.4469895 4.4469895 4.4469895 7.0939507 4.4469895 4.4469895\n",
            " 4.4469895 4.4469895 7.0939507 4.4469895 4.4469895 4.4469895 4.4469895\n",
            " 4.4469895 4.4469895 4.4469895]\n"
          ],
          "name": "stdout"
        }
      ]
    },
    {
      "cell_type": "code",
      "metadata": {
        "colab": {
          "base_uri": "https://localhost:8080/",
          "height": 237
        },
        "id": "EfP8bB_v89Wa",
        "outputId": "fe5b0b42-3ae5-48ce-9d77-53ee01585c33"
      },
      "source": [
        "# prediciton plot --> how well is your model predicting across the actual labels\n",
        "\n",
        "def predPlot(labels, predictions):\n",
        "  plt.scatter(labels, predictions)\n",
        "  plt.ylabel('Predictions')\n",
        "  plt.xlabel('True Value or Labels')\n",
        "  plt.axis('equal')\n",
        "  plt.axis('square')\n",
        "  plt.xlim([0, plt.xlim()[1]])\n",
        "  plt.ylim([0, plt.ylim()[1]])\n",
        "  plt.show()\n",
        "\n",
        "predPlot(testLabels, testPreds)"
      ],
      "execution_count": 87,
      "outputs": [
        {
          "output_type": "display_data",
          "data": {
            "image/png": "[encoded data removed]",
            "text/plain": [
              "<Figure size 576x396 with 1 Axes>"
            ]
          },
          "metadata": {
            "tags": []
          }
        }
      ]
    },
    {
      "cell_type": "code",
      "metadata": {
        "colab": {
          "base_uri": "https://localhost:8080/",
          "height": 361
        },
        "id": "70608Z0o9tWL",
        "outputId": "023e4862-687e-4938-ef22-e2e79e648b75"
      },
      "source": [
        "#error plot --> gaussian distribution \n",
        "\n",
        "def errorPlot(preds, labels, counts):\n",
        "  errors = preds - labels\n",
        "  plt.hist(errors, counts)\n",
        "  plt.xlabel('Error')\n",
        "  plt.ylabel('Counts')\n",
        "  plt.show()\n",
        "\n",
        "errorPlot(testPreds, testLabels, numEpochs)"
      ],
      "execution_count": 88,
      "outputs": [
        {
          "output_type": "display_data",
          "data": {
            "image/png": "[encoded data removed]",
            "text/plain": [
              "<Figure size 576x396 with 1 Axes>"
            ]
          },
          "metadata": {
            "tags": []
          }
        }
      ]
    },
    {
      "cell_type": "markdown",
      "metadata": {
        "id": "oshf2mUG1vPk"
      },
      "source": [
        "Note: \n",
        "\n",
        "\n",
        "Validation loss `val_loss` is a metric that tells you how much deviation from the actual label can you expect in the predicted label\n",
        "\n",
        "To optimize your predicitons -->\n",
        "\n",
        "- Hyperparameter tuning --> `numEpochs`, `optimizer`, `learning_rate`, lossFunctions"
      ]
    }
  ]
}